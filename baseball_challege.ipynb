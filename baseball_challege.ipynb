{
 "metadata": {
  "language_info": {
   "codemirror_mode": {
    "name": "ipython",
    "version": 3
   },
   "file_extension": ".py",
   "mimetype": "text/x-python",
   "name": "python",
   "nbconvert_exporter": "python",
   "pygments_lexer": "ipython3",
   "version": "3.8.3-final"
  },
  "orig_nbformat": 2,
  "kernelspec": {
   "name": "python3",
   "display_name": "Python 3"
  }
 },
 "nbformat": 4,
 "nbformat_minor": 2,
 "cells": [
  {
   "cell_type": "code",
   "execution_count": 1,
   "metadata": {},
   "outputs": [],
   "source": [
    "import pandas as pd\n",
    "import numpy  as np\n",
    "import matplotlib.pyplot as plt"
   ]
  },
  {
   "cell_type": "code",
   "execution_count": 9,
   "metadata": {},
   "outputs": [
    {
     "output_type": "execute_result",
     "data": {
      "text/plain": [
       "<bound method DataFrame.count of       yearID lgID teamID franchID divID  Rank    G  Ghome   W   L  ...     DP  \\\n",
       "0       1871  NaN    BS1      BNA   NaN     3   31    NaN  20  10  ...    NaN   \n",
       "1       1871  NaN    CH1      CNA   NaN     2   28    NaN  19   9  ...    NaN   \n",
       "2       1871  NaN    CL1      CFC   NaN     8   29    NaN  10  19  ...    NaN   \n",
       "3       1871  NaN    FW1      KEK   NaN     7   19    NaN   7  12  ...    NaN   \n",
       "4       1871  NaN    NY2      NNA   NaN     5   33    NaN  16  17  ...    NaN   \n",
       "...      ...  ...    ...      ...   ...   ...  ...    ...  ..  ..  ...    ...   \n",
       "2800    2015   NL    LAN      LAD     W     1  162   81.0  92  70  ...  133.0   \n",
       "2801    2015   NL    SFN      SFG     W     2  162   81.0  84  78  ...  145.0   \n",
       "2802    2015   NL    ARI      ARI     W     3  162   81.0  79  83  ...  146.0   \n",
       "2803    2015   NL    SDN      SDP     W     4  162   81.0  74  88  ...  138.0   \n",
       "2804    2015   NL    COL      COL     W     5  162   81.0  68  94  ...  171.0   \n",
       "\n",
       "         FP                     name                          park  \\\n",
       "0     0.830     Boston Red Stockings           South End Grounds I   \n",
       "1     0.820  Chicago White Stockings       Union Base-Ball Grounds   \n",
       "2     0.810   Cleveland Forest Citys  National Association Grounds   \n",
       "3     0.800     Fort Wayne Kekiongas                Hamilton Field   \n",
       "4     0.830         New York Mutuals      Union Grounds (Brooklyn)   \n",
       "...     ...                      ...                           ...   \n",
       "2800  0.988      Los Angeles Dodgers                Dodger Stadium   \n",
       "2801  0.987     San Francisco Giants                     AT&T Park   \n",
       "2802  0.986     Arizona Diamondbacks                   Chase Field   \n",
       "2803  0.985         San Diego Padres                    Petco Park   \n",
       "2804  0.985         Colorado Rockies                   Coors Field   \n",
       "\n",
       "      attendance  BPF  PPF  teamIDBR  teamIDlahman45  teamIDretro  \n",
       "0            NaN  103   98       BOS             BS1          BS1  \n",
       "1            NaN  104  102       CHI             CH1          CH1  \n",
       "2            NaN   96  100       CLE             CL1          CL1  \n",
       "3            NaN  101  107       KEK             FW1          FW1  \n",
       "4            NaN   90   88       NYU             NY2          NY2  \n",
       "...          ...  ...  ...       ...             ...          ...  \n",
       "2800   3764815.0  101   98       LAD             LAN          LAN  \n",
       "2801   3375882.0   99   97       SFG             SFN          SFN  \n",
       "2802   2080145.0  107  106       ARI             ARI          ARI  \n",
       "2803   2459742.0   98   97       SDP             SDN          SDN  \n",
       "2804   2506789.0  119  118       COL             COL          COL  \n",
       "\n",
       "[2805 rows x 48 columns]>"
      ]
     },
     "metadata": {},
     "execution_count": 9
    }
   ],
   "source": [
    "teams_df = pd.read_csv(\"C:\\ClassRepo\\BaseballMadness\\Teams.csv\")\n",
    "playoffs_df = pd.read_csv(\"C:\\ClassRepo\\BaseballMadness\\PlayoffTeams.csv\")\n",
    "salaries_df = pd.read_csv(\"C:\\ClassRepo\\BaseballMadness\\Salaries.csv\")\n",
    "franchises_df = pd.read_csv(\"C:\\ClassRepo\\BaseballMadness\\TeamsFranchises.csv\")\n",
    "teams_df.head()\n",
    "teams_df.count"
   ]
  },
  {
   "cell_type": "code",
   "execution_count": 16,
   "metadata": {},
   "outputs": [
    {
     "output_type": "execute_result",
     "data": {
      "text/plain": [
       "<bound method DataFrame.count of      yearID  round teamIDwinner lgIDwinner teamIDloser lgIDloser  wins  \\\n",
       "222    2005   ALCS          CHA         AL         LAA        AL     4   \n",
       "223    2005  ALDS1          CHA         AL         BOS        AL     3   \n",
       "224    2005  ALDS2          LAA         AL         NYA        AL     3   \n",
       "225    2005   NLCS          HOU         NL         SLN        NL     4   \n",
       "226    2005  NLDS1          SLN         NL         SDN        NL     3   \n",
       "..      ...    ...          ...        ...         ...       ...   ...   \n",
       "302    2015   NLWC          CHN         NL         PIT        NL     1   \n",
       "303    2015   NLCS          NYN         NL         CHN        NL     4   \n",
       "304    2015  NLDS1          CHN         NL         SLN        NL     3   \n",
       "305    2015  NLDS2          NYN         NL         LAN        NL     3   \n",
       "306    2015     WS          KCA         AL         NYN        NL     4   \n",
       "\n",
       "     losses  ties  \n",
       "222       1     0  \n",
       "223       0     0  \n",
       "224       2     0  \n",
       "225       2     0  \n",
       "226       0     0  \n",
       "..      ...   ...  \n",
       "302       0     0  \n",
       "303       0     0  \n",
       "304       1     0  \n",
       "305       2     0  \n",
       "306       1     0  \n",
       "\n",
       "[85 rows x 9 columns]>"
      ]
     },
     "metadata": {},
     "execution_count": 16
    }
   ],
   "source": [
    "# clean up Teams dataframes to chosen years (2005-2015)\n",
    "\n",
    "teams_df = teams_df.loc[teams_df['yearID'] > 2004]\n",
    "teams_df.count\n",
    "playoffs_df = playoffs_df.loc[playoffs_df['yearID'] > 2004]\n",
    "playoffs_df.count"
   ]
  },
  {
   "cell_type": "code",
   "execution_count": 27,
   "metadata": {},
   "outputs": [
    {
     "output_type": "stream",
     "name": "stdout",
     "text": [
      "    teamIDwinner\n222          CHA\n224          LAA\n225          HOU\n226          SLN\n229          DET\n231          OAK\n233          NYN\n236          BOS\n238          CLE\n239          COL\n240          ARI\n243          TBA\n246          PHI\n247          LAN\n250          NYA\n257          TEX\n260          SFN\n269          MIL\n271          BAL\n284          PIT\n289          KCA\n301          TOR\n302          CHN\n    teamIDloser\n222         LAA\n223         BOS\n224         NYA\n225         SLN\n226         SDN\n227         ATL\n228         HOU\n229         OAK\n231         MIN\n232         NYN\n233         LAN\n235         DET\n236         CLE\n239         ARI\n240         CHN\n241         PHI\n242         COL\n245         CHA\n248         MIL\n249         TBA\n261         CIN\n263         TEX\n273         BAL\n277         WAS\n286         PIT\n297         KCA\n299         TOR\n"
     ]
    }
   ],
   "source": [
    "# plot_df = cleaned_df[['Drug Regimen', 'Mouse ID']].drop_duplicates().groupby('Drug Regimen').count()\n",
    "\n",
    "winners_df = playoffs_df[['teamIDwinner']].drop_duplicates()\n",
    "winners_df.head()\n",
    "winners_df.count()\n",
    "#losers_df\n",
    "losers_df = playoffs_df[['teamIDloser']].drop_duplicates()\n",
    "losers_df.head()\n",
    "losers_df.count()\n",
    "\n",
    "print(winners_df)\n",
    "print(losers_df)"
   ]
  },
  {
   "cell_type": "code",
   "execution_count": null,
   "metadata": {},
   "outputs": [],
   "source": []
  }
 ]
}