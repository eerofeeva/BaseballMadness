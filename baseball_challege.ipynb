{
 "metadata": {
  "language_info": {
   "codemirror_mode": {
    "name": "ipython",
    "version": 3
   },
   "file_extension": ".py",
   "mimetype": "text/x-python",
   "name": "python",
   "nbconvert_exporter": "python",
   "pygments_lexer": "ipython3",
   "version": "3.8.3-final"
  },
  "orig_nbformat": 2,
  "kernelspec": {
   "name": "python3",
   "display_name": "Python 3"
  }
 },
 "nbformat": 4,
 "nbformat_minor": 2,
 "cells": [
  {
   "cell_type": "code",
   "execution_count": 2,
   "metadata": {},
   "outputs": [],
   "source": [
    "import pandas as pd\n",
    "import numpy  as np\n",
    "import matplotlib.pyplot as plt"
   ]
  },
  {
   "cell_type": "code",
   "execution_count": 3,
   "metadata": {},
   "outputs": [
    {
     "output_type": "execute_result",
     "data": {
      "text/plain": [
       "<bound method DataFrame.count of       yearID lgID teamID franchID divID  Rank    G  Ghome   W   L  ...     DP  \\\n",
       "0       1871  NaN    BS1      BNA   NaN     3   31    NaN  20  10  ...    NaN   \n",
       "1       1871  NaN    CH1      CNA   NaN     2   28    NaN  19   9  ...    NaN   \n",
       "2       1871  NaN    CL1      CFC   NaN     8   29    NaN  10  19  ...    NaN   \n",
       "3       1871  NaN    FW1      KEK   NaN     7   19    NaN   7  12  ...    NaN   \n",
       "4       1871  NaN    NY2      NNA   NaN     5   33    NaN  16  17  ...    NaN   \n",
       "...      ...  ...    ...      ...   ...   ...  ...    ...  ..  ..  ...    ...   \n",
       "2800    2015   NL    LAN      LAD     W     1  162   81.0  92  70  ...  133.0   \n",
       "2801    2015   NL    SFN      SFG     W     2  162   81.0  84  78  ...  145.0   \n",
       "2802    2015   NL    ARI      ARI     W     3  162   81.0  79  83  ...  146.0   \n",
       "2803    2015   NL    SDN      SDP     W     4  162   81.0  74  88  ...  138.0   \n",
       "2804    2015   NL    COL      COL     W     5  162   81.0  68  94  ...  171.0   \n",
       "\n",
       "         FP                     name                          park  \\\n",
       "0     0.830     Boston Red Stockings           South End Grounds I   \n",
       "1     0.820  Chicago White Stockings       Union Base-Ball Grounds   \n",
       "2     0.810   Cleveland Forest Citys  National Association Grounds   \n",
       "3     0.800     Fort Wayne Kekiongas                Hamilton Field   \n",
       "4     0.830         New York Mutuals      Union Grounds (Brooklyn)   \n",
       "...     ...                      ...                           ...   \n",
       "2800  0.988      Los Angeles Dodgers                Dodger Stadium   \n",
       "2801  0.987     San Francisco Giants                     AT&T Park   \n",
       "2802  0.986     Arizona Diamondbacks                   Chase Field   \n",
       "2803  0.985         San Diego Padres                    Petco Park   \n",
       "2804  0.985         Colorado Rockies                   Coors Field   \n",
       "\n",
       "      attendance  BPF  PPF  teamIDBR  teamIDlahman45  teamIDretro  \n",
       "0            NaN  103   98       BOS             BS1          BS1  \n",
       "1            NaN  104  102       CHI             CH1          CH1  \n",
       "2            NaN   96  100       CLE             CL1          CL1  \n",
       "3            NaN  101  107       KEK             FW1          FW1  \n",
       "4            NaN   90   88       NYU             NY2          NY2  \n",
       "...          ...  ...  ...       ...             ...          ...  \n",
       "2800   3764815.0  101   98       LAD             LAN          LAN  \n",
       "2801   3375882.0   99   97       SFG             SFN          SFN  \n",
       "2802   2080145.0  107  106       ARI             ARI          ARI  \n",
       "2803   2459742.0   98   97       SDP             SDN          SDN  \n",
       "2804   2506789.0  119  118       COL             COL          COL  \n",
       "\n",
       "[2805 rows x 48 columns]>"
      ]
     },
     "metadata": {},
     "execution_count": 3
    }
   ],
   "source": [
    "teams_df = pd.read_csv(\"C:\\ClassRepo\\BaseballMadness\\Teams.csv\")\n",
    "playoffs_df = pd.read_csv(\"C:\\ClassRepo\\BaseballMadness\\PlayoffTeams.csv\")\n",
    "salaries_df = pd.read_csv(\"C:\\ClassRepo\\BaseballMadness\\Salaries.csv\")\n",
    "franchises_df = pd.read_csv(\"C:\\ClassRepo\\BaseballMadness\\TeamsFranchises.csv\")\n"
   ]
  },
  {
   "cell_type": "code",
   "execution_count": 11,
   "metadata": {},
   "outputs": [],
   "source": [
    "# clean up Teams dataframes to chosen years (2005-2015)\n",
    "\n",
    "teams_df = teams_df.loc[teams_df['yearID'] > 2004]\n",
    "teams_df.count\n",
    "playoffs_df = playoffs_df.loc[playoffs_df['yearID'] > 2004]\n",
    "playoffs_df.count\n",
    "salaries_df = salaries_df.loc[salaries_df['yearID'] > 2004]"
   ]
  },
  {
   "cell_type": "code",
   "execution_count": 12,
   "metadata": {},
   "outputs": [
    {
     "output_type": "stream",
     "name": "stdout",
     "text": [
      "    teamIDwinner\n222          CHA\n224          LAA\n225          HOU\n226          SLN\n229          DET\n231          OAK\n233          NYN\n236          BOS\n238          CLE\n239          COL\n240          ARI\n243          TBA\n246          PHI\n247          LAN\n250          NYA\n257          TEX\n260          SFN\n269          MIL\n271          BAL\n284          PIT\n289          KCA\n301          TOR\n302          CHN\n    teamIDloser\n222         LAA\n223         BOS\n224         NYA\n225         SLN\n226         SDN\n227         ATL\n228         HOU\n229         OAK\n231         MIN\n232         NYN\n233         LAN\n235         DET\n236         CLE\n239         ARI\n240         CHN\n241         PHI\n242         COL\n245         CHA\n248         MIL\n249         TBA\n261         CIN\n263         TEX\n273         BAL\n277         WAS\n286         PIT\n297         KCA\n299         TOR\n"
     ]
    }
   ],
   "source": [
    "winners_df = playoffs_df[['teamIDwinner']].drop_duplicates()\n",
    "winners_df.head()\n",
    "winners_df.count()\n",
    "#losers_df\n",
    "losers_df = playoffs_df[['teamIDloser']].drop_duplicates()\n",
    "losers_df.head()\n",
    "losers_df.count()\n",
    "\n",
    "print(winners_df)\n",
    "print(losers_df)"
   ]
  },
  {
   "cell_type": "code",
   "execution_count": 17,
   "metadata": {},
   "outputs": [],
   "source": [
    "playoff_count_df = playoffs_df['teamIDwinner'].append(playoffs_df['teamIDloser'])\n",
    "playoff_count_df = playoff_count_df.value_counts()"
   ]
  },
  {
   "cell_type": "code",
   "execution_count": 125,
   "metadata": {},
   "outputs": [],
   "source": [
    "#MONEY SECTION\n",
    "#How much is a team that got to the playoffs between 2005-2015 spending #per year\n",
    "# #What is the average per team per general player per    \n",
    "# Create 2 dataframes answering 2 objectives:\n",
    "# salaries_describe['Sum'] - How much is a play offs team spends total per year \n",
    "# salaries_describe['mean'] - How much the playoff team spends per general player per year\n",
    "# top_ten_sum; top_ten_mean - Find the teams that spend Too Much - top 10% (?) \n",
    "# Make Bar graph for 1 and 2\n",
    "\n",
    "salaries_test_df = salaries_df.loc[salaries_df['teamID'].isin(playoff_count_df.index)]\n",
    "\n",
    "salaries_test_df = salaries_test_df.groupby(['yearID', 'teamID'])\n",
    "salaries_describe = salaries_test_df.describe()\n",
    "salaries_describe['salary','Sum'] = salaries_test_df.sum()\n",
    "\n",
    "quantile_09 = salaries_describe.quantile(.9)\n",
    "\n",
    "top_ten_mean = salaries_describe.loc[salaries_describe['salary','mean']>quantile_09['salary']['mean']]\n",
    "top_ten_sum = salaries_describe.loc[salaries_describe['salary','Sum']>quantile_09['salary']['Sum']]\n",
    "\n"
   ]
  },
  {
   "cell_type": "code",
   "execution_count": 127,
   "metadata": {},
   "outputs": [
    {
     "output_type": "execute_result",
     "data": {
      "text/plain": [
       "              salary                                                    \\\n",
       "               count          mean           std       min         25%   \n",
       "yearID teamID                                                            \n",
       "2005   NYA      26.0  8.011801e+06  7.117015e+06  317200.0  2187500.00   \n",
       "2006   NYA      28.0  6.952253e+06  7.343890e+06  328600.0   912500.00   \n",
       "2007   NYA      28.0  6.759252e+06  7.725153e+06  382048.0   450042.25   \n",
       "2008   NYA      30.0  6.929893e+06  8.164959e+06  390000.0   400312.50   \n",
       "2009   CHN      25.0  5.392360e+06  6.194445e+06  400000.0   500000.00   \n",
       "       NYA      26.0  7.748046e+06  8.596408e+06  400000.0   438506.25   \n",
       "       NYN      28.0  5.334785e+06  5.607904e+06  400000.0  1093750.00   \n",
       "2010   BOS      29.0  5.601632e+06  5.100972e+06  415500.0   905000.00   \n",
       "       CHN      27.0  5.429963e+06  6.625155e+06  400000.0   750000.00   \n",
       "       NYA      25.0  8.253336e+06  9.267188e+06  410800.0   487975.00   \n",
       "2011   BOS      27.0  5.991203e+06  5.576433e+06  417000.0   887500.00   \n",
       "       NYA      29.0  6.975001e+06  8.531288e+06  419300.0   650000.00   \n",
       "       PHI      30.0  5.765879e+06  6.227551e+06  414000.0   570000.00   \n",
       "2012   LAA      29.0  5.327075e+06  6.212772e+06  480000.0   500000.00   \n",
       "       NYA      29.0  6.776631e+06  8.119776e+06  482000.0   528475.00   \n",
       "       PHI      30.0  5.817965e+06  6.833158e+06  480000.0   497500.00   \n",
       "2013   DET      24.0  6.082896e+06  6.873032e+06  490000.0   763750.00   \n",
       "       LAN      32.0  6.980069e+06  7.203055e+06  490500.0  1215500.00   \n",
       "       NYA      31.0  7.483190e+06  8.784431e+06  490000.0   546812.50   \n",
       "       PHI      26.0  6.533200e+06  8.200819e+06  490000.0   507500.00   \n",
       "2014   DET      23.0  6.645891e+06  7.276494e+06  500000.0   515000.00   \n",
       "       LAN      32.0  6.781706e+06  7.414982e+06  501000.0   925000.00   \n",
       "       NYA      24.0  8.230996e+06  8.609457e+06  502100.0   537918.75   \n",
       "       PHI      32.0  5.654530e+06  7.551086e+06  500000.0   500000.00   \n",
       "       SFN      28.0  5.839649e+06  5.751721e+06  500500.0   848750.00   \n",
       "2015   BOS      32.0  5.659481e+06  6.241481e+06  508500.0   539875.00   \n",
       "       DET      25.0  6.891390e+06  8.081387e+06  507500.0   520000.00   \n",
       "       LAN      29.0  7.441103e+06  8.570340e+06  510000.0   693000.00   \n",
       "       NYA      29.0  7.336274e+06  8.355235e+06  507500.0   554100.00   \n",
       "       SFN      27.0  6.100056e+06  6.091981e+06  509000.0  1275000.00   \n",
       "       WAS      29.0  5.365085e+06  5.965111e+06  507500.0   525000.00   \n",
       "\n",
       "                                                              \n",
       "                     50%          75%         max        Sum  \n",
       "yearID teamID                                                 \n",
       "2005   NYA     5833333.5  12839285.75  26000000.0  208306817  \n",
       "2006   NYA     2925000.0  12250000.00  21680727.0  194663079  \n",
       "2007   NYA     2250000.0  12250000.00  23428571.0  189259045  \n",
       "2008   NYA     2437500.0  13000000.00  28000000.0  207896789  \n",
       "2009   CHN     2200000.0   9000000.00  18750000.0  134809000  \n",
       "       NYA     5200000.0  13075000.00  33000000.0  201449189  \n",
       "       NYN     2612500.0   8104166.50  19243682.0  149373987  \n",
       "2010   BOS     3750000.0   9000000.00  18700000.0  162447333  \n",
       "       CHN     2125000.0  12875000.00  19000000.0  146609000  \n",
       "       NYA     5500000.0  13100000.00  33000000.0  206333389  \n",
       "2011   BOS     5500000.0  11166666.50  17000000.0  161762475  \n",
       "       NYA     2700000.0  10000000.00  32000000.0  202275028  \n",
       "       PHI     2625000.0  10250000.00  20000000.0  172976379  \n",
       "2012   LAA     3150000.0   9000000.00  24187500.0  154485166  \n",
       "       NYA     2800000.0  10250000.00  30000000.0  196522289  \n",
       "       PHI     1875000.0  10475000.00  21500000.0  174538938  \n",
       "2013   DET     3750000.0   7243750.00  23000000.0  145989500  \n",
       "       LAN     4230749.5  12104166.75  21857143.0  223362196  \n",
       "       NYA     2850000.0  13500000.00  29000000.0  231978886  \n",
       "       PHI     1375000.0  12500000.00  25000000.0  169863189  \n",
       "2014   DET     2500000.0  13000000.00  22000000.0  152855500  \n",
       "       LAN     4000000.0  10000000.00  26000000.0  217014600  \n",
       "       NYA     4357500.0  16250000.00  23000000.0  197543907  \n",
       "       PHI     1356250.0   8125000.00  25000000.0  180944967  \n",
       "       SFN     4250000.0   8750000.00  20000000.0  163510167  \n",
       "2015   BOS     2125000.0  11453250.00  19750000.0  181103400  \n",
       "       DET     3000000.0  10500000.00  28000000.0  172284750  \n",
       "       LAN     4000000.0  10000000.00  32571000.0  215792000  \n",
       "       NYA     3300000.0  13000000.00  23125000.0  212751957  \n",
       "       SFN     4000000.0   7875000.00  21000000.0  164701500  \n",
       "       WAS     2500000.0   9000000.00  21000000.0  155587472  "
      ],
      "text/html": "<div>\n<style scoped>\n    .dataframe tbody tr th:only-of-type {\n        vertical-align: middle;\n    }\n\n    .dataframe tbody tr th {\n        vertical-align: top;\n    }\n\n    .dataframe thead tr th {\n        text-align: left;\n    }\n\n    .dataframe thead tr:last-of-type th {\n        text-align: right;\n    }\n</style>\n<table border=\"1\" class=\"dataframe\">\n  <thead>\n    <tr>\n      <th></th>\n      <th></th>\n      <th colspan=\"9\" halign=\"left\">salary</th>\n    </tr>\n    <tr>\n      <th></th>\n      <th></th>\n      <th>count</th>\n      <th>mean</th>\n      <th>std</th>\n      <th>min</th>\n      <th>25%</th>\n      <th>50%</th>\n      <th>75%</th>\n      <th>max</th>\n      <th>Sum</th>\n    </tr>\n    <tr>\n      <th>yearID</th>\n      <th>teamID</th>\n      <th></th>\n      <th></th>\n      <th></th>\n      <th></th>\n      <th></th>\n      <th></th>\n      <th></th>\n      <th></th>\n      <th></th>\n    </tr>\n  </thead>\n  <tbody>\n    <tr>\n      <th>2005</th>\n      <th>NYA</th>\n      <td>26.0</td>\n      <td>8.011801e+06</td>\n      <td>7.117015e+06</td>\n      <td>317200.0</td>\n      <td>2187500.00</td>\n      <td>5833333.5</td>\n      <td>12839285.75</td>\n      <td>26000000.0</td>\n      <td>208306817</td>\n    </tr>\n    <tr>\n      <th>2006</th>\n      <th>NYA</th>\n      <td>28.0</td>\n      <td>6.952253e+06</td>\n      <td>7.343890e+06</td>\n      <td>328600.0</td>\n      <td>912500.00</td>\n      <td>2925000.0</td>\n      <td>12250000.00</td>\n      <td>21680727.0</td>\n      <td>194663079</td>\n    </tr>\n    <tr>\n      <th>2007</th>\n      <th>NYA</th>\n      <td>28.0</td>\n      <td>6.759252e+06</td>\n      <td>7.725153e+06</td>\n      <td>382048.0</td>\n      <td>450042.25</td>\n      <td>2250000.0</td>\n      <td>12250000.00</td>\n      <td>23428571.0</td>\n      <td>189259045</td>\n    </tr>\n    <tr>\n      <th>2008</th>\n      <th>NYA</th>\n      <td>30.0</td>\n      <td>6.929893e+06</td>\n      <td>8.164959e+06</td>\n      <td>390000.0</td>\n      <td>400312.50</td>\n      <td>2437500.0</td>\n      <td>13000000.00</td>\n      <td>28000000.0</td>\n      <td>207896789</td>\n    </tr>\n    <tr>\n      <th rowspan=\"3\" valign=\"top\">2009</th>\n      <th>CHN</th>\n      <td>25.0</td>\n      <td>5.392360e+06</td>\n      <td>6.194445e+06</td>\n      <td>400000.0</td>\n      <td>500000.00</td>\n      <td>2200000.0</td>\n      <td>9000000.00</td>\n      <td>18750000.0</td>\n      <td>134809000</td>\n    </tr>\n    <tr>\n      <th>NYA</th>\n      <td>26.0</td>\n      <td>7.748046e+06</td>\n      <td>8.596408e+06</td>\n      <td>400000.0</td>\n      <td>438506.25</td>\n      <td>5200000.0</td>\n      <td>13075000.00</td>\n      <td>33000000.0</td>\n      <td>201449189</td>\n    </tr>\n    <tr>\n      <th>NYN</th>\n      <td>28.0</td>\n      <td>5.334785e+06</td>\n      <td>5.607904e+06</td>\n      <td>400000.0</td>\n      <td>1093750.00</td>\n      <td>2612500.0</td>\n      <td>8104166.50</td>\n      <td>19243682.0</td>\n      <td>149373987</td>\n    </tr>\n    <tr>\n      <th rowspan=\"3\" valign=\"top\">2010</th>\n      <th>BOS</th>\n      <td>29.0</td>\n      <td>5.601632e+06</td>\n      <td>5.100972e+06</td>\n      <td>415500.0</td>\n      <td>905000.00</td>\n      <td>3750000.0</td>\n      <td>9000000.00</td>\n      <td>18700000.0</td>\n      <td>162447333</td>\n    </tr>\n    <tr>\n      <th>CHN</th>\n      <td>27.0</td>\n      <td>5.429963e+06</td>\n      <td>6.625155e+06</td>\n      <td>400000.0</td>\n      <td>750000.00</td>\n      <td>2125000.0</td>\n      <td>12875000.00</td>\n      <td>19000000.0</td>\n      <td>146609000</td>\n    </tr>\n    <tr>\n      <th>NYA</th>\n      <td>25.0</td>\n      <td>8.253336e+06</td>\n      <td>9.267188e+06</td>\n      <td>410800.0</td>\n      <td>487975.00</td>\n      <td>5500000.0</td>\n      <td>13100000.00</td>\n      <td>33000000.0</td>\n      <td>206333389</td>\n    </tr>\n    <tr>\n      <th rowspan=\"3\" valign=\"top\">2011</th>\n      <th>BOS</th>\n      <td>27.0</td>\n      <td>5.991203e+06</td>\n      <td>5.576433e+06</td>\n      <td>417000.0</td>\n      <td>887500.00</td>\n      <td>5500000.0</td>\n      <td>11166666.50</td>\n      <td>17000000.0</td>\n      <td>161762475</td>\n    </tr>\n    <tr>\n      <th>NYA</th>\n      <td>29.0</td>\n      <td>6.975001e+06</td>\n      <td>8.531288e+06</td>\n      <td>419300.0</td>\n      <td>650000.00</td>\n      <td>2700000.0</td>\n      <td>10000000.00</td>\n      <td>32000000.0</td>\n      <td>202275028</td>\n    </tr>\n    <tr>\n      <th>PHI</th>\n      <td>30.0</td>\n      <td>5.765879e+06</td>\n      <td>6.227551e+06</td>\n      <td>414000.0</td>\n      <td>570000.00</td>\n      <td>2625000.0</td>\n      <td>10250000.00</td>\n      <td>20000000.0</td>\n      <td>172976379</td>\n    </tr>\n    <tr>\n      <th rowspan=\"3\" valign=\"top\">2012</th>\n      <th>LAA</th>\n      <td>29.0</td>\n      <td>5.327075e+06</td>\n      <td>6.212772e+06</td>\n      <td>480000.0</td>\n      <td>500000.00</td>\n      <td>3150000.0</td>\n      <td>9000000.00</td>\n      <td>24187500.0</td>\n      <td>154485166</td>\n    </tr>\n    <tr>\n      <th>NYA</th>\n      <td>29.0</td>\n      <td>6.776631e+06</td>\n      <td>8.119776e+06</td>\n      <td>482000.0</td>\n      <td>528475.00</td>\n      <td>2800000.0</td>\n      <td>10250000.00</td>\n      <td>30000000.0</td>\n      <td>196522289</td>\n    </tr>\n    <tr>\n      <th>PHI</th>\n      <td>30.0</td>\n      <td>5.817965e+06</td>\n      <td>6.833158e+06</td>\n      <td>480000.0</td>\n      <td>497500.00</td>\n      <td>1875000.0</td>\n      <td>10475000.00</td>\n      <td>21500000.0</td>\n      <td>174538938</td>\n    </tr>\n    <tr>\n      <th rowspan=\"4\" valign=\"top\">2013</th>\n      <th>DET</th>\n      <td>24.0</td>\n      <td>6.082896e+06</td>\n      <td>6.873032e+06</td>\n      <td>490000.0</td>\n      <td>763750.00</td>\n      <td>3750000.0</td>\n      <td>7243750.00</td>\n      <td>23000000.0</td>\n      <td>145989500</td>\n    </tr>\n    <tr>\n      <th>LAN</th>\n      <td>32.0</td>\n      <td>6.980069e+06</td>\n      <td>7.203055e+06</td>\n      <td>490500.0</td>\n      <td>1215500.00</td>\n      <td>4230749.5</td>\n      <td>12104166.75</td>\n      <td>21857143.0</td>\n      <td>223362196</td>\n    </tr>\n    <tr>\n      <th>NYA</th>\n      <td>31.0</td>\n      <td>7.483190e+06</td>\n      <td>8.784431e+06</td>\n      <td>490000.0</td>\n      <td>546812.50</td>\n      <td>2850000.0</td>\n      <td>13500000.00</td>\n      <td>29000000.0</td>\n      <td>231978886</td>\n    </tr>\n    <tr>\n      <th>PHI</th>\n      <td>26.0</td>\n      <td>6.533200e+06</td>\n      <td>8.200819e+06</td>\n      <td>490000.0</td>\n      <td>507500.00</td>\n      <td>1375000.0</td>\n      <td>12500000.00</td>\n      <td>25000000.0</td>\n      <td>169863189</td>\n    </tr>\n    <tr>\n      <th rowspan=\"5\" valign=\"top\">2014</th>\n      <th>DET</th>\n      <td>23.0</td>\n      <td>6.645891e+06</td>\n      <td>7.276494e+06</td>\n      <td>500000.0</td>\n      <td>515000.00</td>\n      <td>2500000.0</td>\n      <td>13000000.00</td>\n      <td>22000000.0</td>\n      <td>152855500</td>\n    </tr>\n    <tr>\n      <th>LAN</th>\n      <td>32.0</td>\n      <td>6.781706e+06</td>\n      <td>7.414982e+06</td>\n      <td>501000.0</td>\n      <td>925000.00</td>\n      <td>4000000.0</td>\n      <td>10000000.00</td>\n      <td>26000000.0</td>\n      <td>217014600</td>\n    </tr>\n    <tr>\n      <th>NYA</th>\n      <td>24.0</td>\n      <td>8.230996e+06</td>\n      <td>8.609457e+06</td>\n      <td>502100.0</td>\n      <td>537918.75</td>\n      <td>4357500.0</td>\n      <td>16250000.00</td>\n      <td>23000000.0</td>\n      <td>197543907</td>\n    </tr>\n    <tr>\n      <th>PHI</th>\n      <td>32.0</td>\n      <td>5.654530e+06</td>\n      <td>7.551086e+06</td>\n      <td>500000.0</td>\n      <td>500000.00</td>\n      <td>1356250.0</td>\n      <td>8125000.00</td>\n      <td>25000000.0</td>\n      <td>180944967</td>\n    </tr>\n    <tr>\n      <th>SFN</th>\n      <td>28.0</td>\n      <td>5.839649e+06</td>\n      <td>5.751721e+06</td>\n      <td>500500.0</td>\n      <td>848750.00</td>\n      <td>4250000.0</td>\n      <td>8750000.00</td>\n      <td>20000000.0</td>\n      <td>163510167</td>\n    </tr>\n    <tr>\n      <th rowspan=\"6\" valign=\"top\">2015</th>\n      <th>BOS</th>\n      <td>32.0</td>\n      <td>5.659481e+06</td>\n      <td>6.241481e+06</td>\n      <td>508500.0</td>\n      <td>539875.00</td>\n      <td>2125000.0</td>\n      <td>11453250.00</td>\n      <td>19750000.0</td>\n      <td>181103400</td>\n    </tr>\n    <tr>\n      <th>DET</th>\n      <td>25.0</td>\n      <td>6.891390e+06</td>\n      <td>8.081387e+06</td>\n      <td>507500.0</td>\n      <td>520000.00</td>\n      <td>3000000.0</td>\n      <td>10500000.00</td>\n      <td>28000000.0</td>\n      <td>172284750</td>\n    </tr>\n    <tr>\n      <th>LAN</th>\n      <td>29.0</td>\n      <td>7.441103e+06</td>\n      <td>8.570340e+06</td>\n      <td>510000.0</td>\n      <td>693000.00</td>\n      <td>4000000.0</td>\n      <td>10000000.00</td>\n      <td>32571000.0</td>\n      <td>215792000</td>\n    </tr>\n    <tr>\n      <th>NYA</th>\n      <td>29.0</td>\n      <td>7.336274e+06</td>\n      <td>8.355235e+06</td>\n      <td>507500.0</td>\n      <td>554100.00</td>\n      <td>3300000.0</td>\n      <td>13000000.00</td>\n      <td>23125000.0</td>\n      <td>212751957</td>\n    </tr>\n    <tr>\n      <th>SFN</th>\n      <td>27.0</td>\n      <td>6.100056e+06</td>\n      <td>6.091981e+06</td>\n      <td>509000.0</td>\n      <td>1275000.00</td>\n      <td>4000000.0</td>\n      <td>7875000.00</td>\n      <td>21000000.0</td>\n      <td>164701500</td>\n    </tr>\n    <tr>\n      <th>WAS</th>\n      <td>29.0</td>\n      <td>5.365085e+06</td>\n      <td>5.965111e+06</td>\n      <td>507500.0</td>\n      <td>525000.00</td>\n      <td>2500000.0</td>\n      <td>9000000.00</td>\n      <td>21000000.0</td>\n      <td>155587472</td>\n    </tr>\n  </tbody>\n</table>\n</div>"
     },
     "metadata": {},
     "execution_count": 127
    }
   ],
   "source": [
    "top_ten_mean"
   ]
  },
  {
   "cell_type": "code",
   "execution_count": 126,
   "metadata": {},
   "outputs": [
    {
     "output_type": "execute_result",
     "data": {
      "text/plain": [
       "              salary                                                    \\\n",
       "               count          mean           std       min         25%   \n",
       "yearID teamID                                                            \n",
       "2005   NYA      26.0  8.011801e+06  7.117015e+06  317200.0  2187500.00   \n",
       "2006   NYA      28.0  6.952253e+06  7.343890e+06  328600.0   912500.00   \n",
       "2007   NYA      28.0  6.759252e+06  7.725153e+06  382048.0   450042.25   \n",
       "2008   NYA      30.0  6.929893e+06  8.164959e+06  390000.0   400312.50   \n",
       "2009   NYA      26.0  7.748046e+06  8.596408e+06  400000.0   438506.25   \n",
       "       NYN      28.0  5.334785e+06  5.607904e+06  400000.0  1093750.00   \n",
       "2010   BOS      29.0  5.601632e+06  5.100972e+06  415500.0   905000.00   \n",
       "       CHN      27.0  5.429963e+06  6.625155e+06  400000.0   750000.00   \n",
       "       NYA      25.0  8.253336e+06  9.267188e+06  410800.0   487975.00   \n",
       "2011   BOS      27.0  5.991203e+06  5.576433e+06  417000.0   887500.00   \n",
       "       NYA      29.0  6.975001e+06  8.531288e+06  419300.0   650000.00   \n",
       "       PHI      30.0  5.765879e+06  6.227551e+06  414000.0   570000.00   \n",
       "2012   BOS      34.0  5.093724e+06  6.311422e+06  482000.0   756250.00   \n",
       "       LAA      29.0  5.327075e+06  6.212772e+06  480000.0   500000.00   \n",
       "       NYA      29.0  6.776631e+06  8.119776e+06  482000.0   528475.00   \n",
       "       PHI      30.0  5.817965e+06  6.833158e+06  480000.0   497500.00   \n",
       "2013   BOS      29.0  5.225172e+06  4.829211e+06  498000.0  1475000.00   \n",
       "       LAN      32.0  6.980069e+06  7.203055e+06  490500.0  1215500.00   \n",
       "       NYA      31.0  7.483190e+06  8.784431e+06  490000.0   546812.50   \n",
       "       PHI      26.0  6.533200e+06  8.200819e+06  490000.0   507500.00   \n",
       "2014   DET      23.0  6.645891e+06  7.276494e+06  500000.0   515000.00   \n",
       "       LAN      32.0  6.781706e+06  7.414982e+06  501000.0   925000.00   \n",
       "       NYA      24.0  8.230996e+06  8.609457e+06  502100.0   537918.75   \n",
       "       PHI      32.0  5.654530e+06  7.551086e+06  500000.0   500000.00   \n",
       "       SFN      28.0  5.839649e+06  5.751721e+06  500500.0   848750.00   \n",
       "2015   BOS      32.0  5.659481e+06  6.241481e+06  508500.0   539875.00   \n",
       "       DET      25.0  6.891390e+06  8.081387e+06  507500.0   520000.00   \n",
       "       LAN      29.0  7.441103e+06  8.570340e+06  510000.0   693000.00   \n",
       "       NYA      29.0  7.336274e+06  8.355235e+06  507500.0   554100.00   \n",
       "       SFN      27.0  6.100056e+06  6.091981e+06  509000.0  1275000.00   \n",
       "       WAS      29.0  5.365085e+06  5.965111e+06  507500.0   525000.00   \n",
       "\n",
       "                                                              \n",
       "                     50%          75%         max        Sum  \n",
       "yearID teamID                                                 \n",
       "2005   NYA     5833333.5  12839285.75  26000000.0  208306817  \n",
       "2006   NYA     2925000.0  12250000.00  21680727.0  194663079  \n",
       "2007   NYA     2250000.0  12250000.00  23428571.0  189259045  \n",
       "2008   NYA     2437500.0  13000000.00  28000000.0  207896789  \n",
       "2009   NYA     5200000.0  13075000.00  33000000.0  201449189  \n",
       "       NYN     2612500.0   8104166.50  19243682.0  149373987  \n",
       "2010   BOS     3750000.0   9000000.00  18700000.0  162447333  \n",
       "       CHN     2125000.0  12875000.00  19000000.0  146609000  \n",
       "       NYA     5500000.0  13100000.00  33000000.0  206333389  \n",
       "2011   BOS     5500000.0  11166666.50  17000000.0  161762475  \n",
       "       NYA     2700000.0  10000000.00  32000000.0  202275028  \n",
       "       PHI     2625000.0  10250000.00  20000000.0  172976379  \n",
       "2012   BOS     1556250.0   7943750.00  21857142.0  173186617  \n",
       "       LAA     3150000.0   9000000.00  24187500.0  154485166  \n",
       "       NYA     2800000.0  10250000.00  30000000.0  196522289  \n",
       "       PHI     1875000.0  10475000.00  21500000.0  174538938  \n",
       "2013   BOS     4100000.0   9000000.00  15950000.0  151530000  \n",
       "       LAN     4230749.5  12104166.75  21857143.0  223362196  \n",
       "       NYA     2850000.0  13500000.00  29000000.0  231978886  \n",
       "       PHI     1375000.0  12500000.00  25000000.0  169863189  \n",
       "2014   DET     2500000.0  13000000.00  22000000.0  152855500  \n",
       "       LAN     4000000.0  10000000.00  26000000.0  217014600  \n",
       "       NYA     4357500.0  16250000.00  23000000.0  197543907  \n",
       "       PHI     1356250.0   8125000.00  25000000.0  180944967  \n",
       "       SFN     4250000.0   8750000.00  20000000.0  163510167  \n",
       "2015   BOS     2125000.0  11453250.00  19750000.0  181103400  \n",
       "       DET     3000000.0  10500000.00  28000000.0  172284750  \n",
       "       LAN     4000000.0  10000000.00  32571000.0  215792000  \n",
       "       NYA     3300000.0  13000000.00  23125000.0  212751957  \n",
       "       SFN     4000000.0   7875000.00  21000000.0  164701500  \n",
       "       WAS     2500000.0   9000000.00  21000000.0  155587472  "
      ],
      "text/html": "<div>\n<style scoped>\n    .dataframe tbody tr th:only-of-type {\n        vertical-align: middle;\n    }\n\n    .dataframe tbody tr th {\n        vertical-align: top;\n    }\n\n    .dataframe thead tr th {\n        text-align: left;\n    }\n\n    .dataframe thead tr:last-of-type th {\n        text-align: right;\n    }\n</style>\n<table border=\"1\" class=\"dataframe\">\n  <thead>\n    <tr>\n      <th></th>\n      <th></th>\n      <th colspan=\"9\" halign=\"left\">salary</th>\n    </tr>\n    <tr>\n      <th></th>\n      <th></th>\n      <th>count</th>\n      <th>mean</th>\n      <th>std</th>\n      <th>min</th>\n      <th>25%</th>\n      <th>50%</th>\n      <th>75%</th>\n      <th>max</th>\n      <th>Sum</th>\n    </tr>\n    <tr>\n      <th>yearID</th>\n      <th>teamID</th>\n      <th></th>\n      <th></th>\n      <th></th>\n      <th></th>\n      <th></th>\n      <th></th>\n      <th></th>\n      <th></th>\n      <th></th>\n    </tr>\n  </thead>\n  <tbody>\n    <tr>\n      <th>2005</th>\n      <th>NYA</th>\n      <td>26.0</td>\n      <td>8.011801e+06</td>\n      <td>7.117015e+06</td>\n      <td>317200.0</td>\n      <td>2187500.00</td>\n      <td>5833333.5</td>\n      <td>12839285.75</td>\n      <td>26000000.0</td>\n      <td>208306817</td>\n    </tr>\n    <tr>\n      <th>2006</th>\n      <th>NYA</th>\n      <td>28.0</td>\n      <td>6.952253e+06</td>\n      <td>7.343890e+06</td>\n      <td>328600.0</td>\n      <td>912500.00</td>\n      <td>2925000.0</td>\n      <td>12250000.00</td>\n      <td>21680727.0</td>\n      <td>194663079</td>\n    </tr>\n    <tr>\n      <th>2007</th>\n      <th>NYA</th>\n      <td>28.0</td>\n      <td>6.759252e+06</td>\n      <td>7.725153e+06</td>\n      <td>382048.0</td>\n      <td>450042.25</td>\n      <td>2250000.0</td>\n      <td>12250000.00</td>\n      <td>23428571.0</td>\n      <td>189259045</td>\n    </tr>\n    <tr>\n      <th>2008</th>\n      <th>NYA</th>\n      <td>30.0</td>\n      <td>6.929893e+06</td>\n      <td>8.164959e+06</td>\n      <td>390000.0</td>\n      <td>400312.50</td>\n      <td>2437500.0</td>\n      <td>13000000.00</td>\n      <td>28000000.0</td>\n      <td>207896789</td>\n    </tr>\n    <tr>\n      <th rowspan=\"2\" valign=\"top\">2009</th>\n      <th>NYA</th>\n      <td>26.0</td>\n      <td>7.748046e+06</td>\n      <td>8.596408e+06</td>\n      <td>400000.0</td>\n      <td>438506.25</td>\n      <td>5200000.0</td>\n      <td>13075000.00</td>\n      <td>33000000.0</td>\n      <td>201449189</td>\n    </tr>\n    <tr>\n      <th>NYN</th>\n      <td>28.0</td>\n      <td>5.334785e+06</td>\n      <td>5.607904e+06</td>\n      <td>400000.0</td>\n      <td>1093750.00</td>\n      <td>2612500.0</td>\n      <td>8104166.50</td>\n      <td>19243682.0</td>\n      <td>149373987</td>\n    </tr>\n    <tr>\n      <th rowspan=\"3\" valign=\"top\">2010</th>\n      <th>BOS</th>\n      <td>29.0</td>\n      <td>5.601632e+06</td>\n      <td>5.100972e+06</td>\n      <td>415500.0</td>\n      <td>905000.00</td>\n      <td>3750000.0</td>\n      <td>9000000.00</td>\n      <td>18700000.0</td>\n      <td>162447333</td>\n    </tr>\n    <tr>\n      <th>CHN</th>\n      <td>27.0</td>\n      <td>5.429963e+06</td>\n      <td>6.625155e+06</td>\n      <td>400000.0</td>\n      <td>750000.00</td>\n      <td>2125000.0</td>\n      <td>12875000.00</td>\n      <td>19000000.0</td>\n      <td>146609000</td>\n    </tr>\n    <tr>\n      <th>NYA</th>\n      <td>25.0</td>\n      <td>8.253336e+06</td>\n      <td>9.267188e+06</td>\n      <td>410800.0</td>\n      <td>487975.00</td>\n      <td>5500000.0</td>\n      <td>13100000.00</td>\n      <td>33000000.0</td>\n      <td>206333389</td>\n    </tr>\n    <tr>\n      <th rowspan=\"3\" valign=\"top\">2011</th>\n      <th>BOS</th>\n      <td>27.0</td>\n      <td>5.991203e+06</td>\n      <td>5.576433e+06</td>\n      <td>417000.0</td>\n      <td>887500.00</td>\n      <td>5500000.0</td>\n      <td>11166666.50</td>\n      <td>17000000.0</td>\n      <td>161762475</td>\n    </tr>\n    <tr>\n      <th>NYA</th>\n      <td>29.0</td>\n      <td>6.975001e+06</td>\n      <td>8.531288e+06</td>\n      <td>419300.0</td>\n      <td>650000.00</td>\n      <td>2700000.0</td>\n      <td>10000000.00</td>\n      <td>32000000.0</td>\n      <td>202275028</td>\n    </tr>\n    <tr>\n      <th>PHI</th>\n      <td>30.0</td>\n      <td>5.765879e+06</td>\n      <td>6.227551e+06</td>\n      <td>414000.0</td>\n      <td>570000.00</td>\n      <td>2625000.0</td>\n      <td>10250000.00</td>\n      <td>20000000.0</td>\n      <td>172976379</td>\n    </tr>\n    <tr>\n      <th rowspan=\"4\" valign=\"top\">2012</th>\n      <th>BOS</th>\n      <td>34.0</td>\n      <td>5.093724e+06</td>\n      <td>6.311422e+06</td>\n      <td>482000.0</td>\n      <td>756250.00</td>\n      <td>1556250.0</td>\n      <td>7943750.00</td>\n      <td>21857142.0</td>\n      <td>173186617</td>\n    </tr>\n    <tr>\n      <th>LAA</th>\n      <td>29.0</td>\n      <td>5.327075e+06</td>\n      <td>6.212772e+06</td>\n      <td>480000.0</td>\n      <td>500000.00</td>\n      <td>3150000.0</td>\n      <td>9000000.00</td>\n      <td>24187500.0</td>\n      <td>154485166</td>\n    </tr>\n    <tr>\n      <th>NYA</th>\n      <td>29.0</td>\n      <td>6.776631e+06</td>\n      <td>8.119776e+06</td>\n      <td>482000.0</td>\n      <td>528475.00</td>\n      <td>2800000.0</td>\n      <td>10250000.00</td>\n      <td>30000000.0</td>\n      <td>196522289</td>\n    </tr>\n    <tr>\n      <th>PHI</th>\n      <td>30.0</td>\n      <td>5.817965e+06</td>\n      <td>6.833158e+06</td>\n      <td>480000.0</td>\n      <td>497500.00</td>\n      <td>1875000.0</td>\n      <td>10475000.00</td>\n      <td>21500000.0</td>\n      <td>174538938</td>\n    </tr>\n    <tr>\n      <th rowspan=\"4\" valign=\"top\">2013</th>\n      <th>BOS</th>\n      <td>29.0</td>\n      <td>5.225172e+06</td>\n      <td>4.829211e+06</td>\n      <td>498000.0</td>\n      <td>1475000.00</td>\n      <td>4100000.0</td>\n      <td>9000000.00</td>\n      <td>15950000.0</td>\n      <td>151530000</td>\n    </tr>\n    <tr>\n      <th>LAN</th>\n      <td>32.0</td>\n      <td>6.980069e+06</td>\n      <td>7.203055e+06</td>\n      <td>490500.0</td>\n      <td>1215500.00</td>\n      <td>4230749.5</td>\n      <td>12104166.75</td>\n      <td>21857143.0</td>\n      <td>223362196</td>\n    </tr>\n    <tr>\n      <th>NYA</th>\n      <td>31.0</td>\n      <td>7.483190e+06</td>\n      <td>8.784431e+06</td>\n      <td>490000.0</td>\n      <td>546812.50</td>\n      <td>2850000.0</td>\n      <td>13500000.00</td>\n      <td>29000000.0</td>\n      <td>231978886</td>\n    </tr>\n    <tr>\n      <th>PHI</th>\n      <td>26.0</td>\n      <td>6.533200e+06</td>\n      <td>8.200819e+06</td>\n      <td>490000.0</td>\n      <td>507500.00</td>\n      <td>1375000.0</td>\n      <td>12500000.00</td>\n      <td>25000000.0</td>\n      <td>169863189</td>\n    </tr>\n    <tr>\n      <th rowspan=\"5\" valign=\"top\">2014</th>\n      <th>DET</th>\n      <td>23.0</td>\n      <td>6.645891e+06</td>\n      <td>7.276494e+06</td>\n      <td>500000.0</td>\n      <td>515000.00</td>\n      <td>2500000.0</td>\n      <td>13000000.00</td>\n      <td>22000000.0</td>\n      <td>152855500</td>\n    </tr>\n    <tr>\n      <th>LAN</th>\n      <td>32.0</td>\n      <td>6.781706e+06</td>\n      <td>7.414982e+06</td>\n      <td>501000.0</td>\n      <td>925000.00</td>\n      <td>4000000.0</td>\n      <td>10000000.00</td>\n      <td>26000000.0</td>\n      <td>217014600</td>\n    </tr>\n    <tr>\n      <th>NYA</th>\n      <td>24.0</td>\n      <td>8.230996e+06</td>\n      <td>8.609457e+06</td>\n      <td>502100.0</td>\n      <td>537918.75</td>\n      <td>4357500.0</td>\n      <td>16250000.00</td>\n      <td>23000000.0</td>\n      <td>197543907</td>\n    </tr>\n    <tr>\n      <th>PHI</th>\n      <td>32.0</td>\n      <td>5.654530e+06</td>\n      <td>7.551086e+06</td>\n      <td>500000.0</td>\n      <td>500000.00</td>\n      <td>1356250.0</td>\n      <td>8125000.00</td>\n      <td>25000000.0</td>\n      <td>180944967</td>\n    </tr>\n    <tr>\n      <th>SFN</th>\n      <td>28.0</td>\n      <td>5.839649e+06</td>\n      <td>5.751721e+06</td>\n      <td>500500.0</td>\n      <td>848750.00</td>\n      <td>4250000.0</td>\n      <td>8750000.00</td>\n      <td>20000000.0</td>\n      <td>163510167</td>\n    </tr>\n    <tr>\n      <th rowspan=\"6\" valign=\"top\">2015</th>\n      <th>BOS</th>\n      <td>32.0</td>\n      <td>5.659481e+06</td>\n      <td>6.241481e+06</td>\n      <td>508500.0</td>\n      <td>539875.00</td>\n      <td>2125000.0</td>\n      <td>11453250.00</td>\n      <td>19750000.0</td>\n      <td>181103400</td>\n    </tr>\n    <tr>\n      <th>DET</th>\n      <td>25.0</td>\n      <td>6.891390e+06</td>\n      <td>8.081387e+06</td>\n      <td>507500.0</td>\n      <td>520000.00</td>\n      <td>3000000.0</td>\n      <td>10500000.00</td>\n      <td>28000000.0</td>\n      <td>172284750</td>\n    </tr>\n    <tr>\n      <th>LAN</th>\n      <td>29.0</td>\n      <td>7.441103e+06</td>\n      <td>8.570340e+06</td>\n      <td>510000.0</td>\n      <td>693000.00</td>\n      <td>4000000.0</td>\n      <td>10000000.00</td>\n      <td>32571000.0</td>\n      <td>215792000</td>\n    </tr>\n    <tr>\n      <th>NYA</th>\n      <td>29.0</td>\n      <td>7.336274e+06</td>\n      <td>8.355235e+06</td>\n      <td>507500.0</td>\n      <td>554100.00</td>\n      <td>3300000.0</td>\n      <td>13000000.00</td>\n      <td>23125000.0</td>\n      <td>212751957</td>\n    </tr>\n    <tr>\n      <th>SFN</th>\n      <td>27.0</td>\n      <td>6.100056e+06</td>\n      <td>6.091981e+06</td>\n      <td>509000.0</td>\n      <td>1275000.00</td>\n      <td>4000000.0</td>\n      <td>7875000.00</td>\n      <td>21000000.0</td>\n      <td>164701500</td>\n    </tr>\n    <tr>\n      <th>WAS</th>\n      <td>29.0</td>\n      <td>5.365085e+06</td>\n      <td>5.965111e+06</td>\n      <td>507500.0</td>\n      <td>525000.00</td>\n      <td>2500000.0</td>\n      <td>9000000.00</td>\n      <td>21000000.0</td>\n      <td>155587472</td>\n    </tr>\n  </tbody>\n</table>\n</div>"
     },
     "metadata": {},
     "execution_count": 126
    }
   ],
   "source": [
    "top_ten_sum"
   ]
  },
  {
   "cell_type": "code",
   "execution_count": null,
   "metadata": {},
   "outputs": [],
   "source": []
  }
 ]
}