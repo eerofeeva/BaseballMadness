{
 "metadata": {
  "language_info": {
   "codemirror_mode": {
    "name": "ipython",
    "version": 3
   },
   "file_extension": ".py",
   "mimetype": "text/x-python",
   "name": "python",
   "nbconvert_exporter": "python",
   "pygments_lexer": "ipython3",
   "version": "3.8.3-final"
  },
  "orig_nbformat": 2,
  "kernelspec": {
   "name": "python3",
   "display_name": "Python 3"
  }
 },
 "nbformat": 4,
 "nbformat_minor": 2,
 "cells": [
  {
   "cell_type": "code",
   "execution_count": 2,
   "metadata": {},
   "outputs": [],
   "source": [
    "import pandas as pd\n",
    "import numpy  as np\n",
    "import matplotlib.pyplot as plt"
   ]
  },
  {
   "cell_type": "code",
   "execution_count": 3,
   "metadata": {},
   "outputs": [
    {
     "output_type": "execute_result",
     "data": {
      "text/plain": [
       "<bound method DataFrame.count of       yearID lgID teamID franchID divID  Rank    G  Ghome   W   L  ...     DP  \\\n",
       "0       1871  NaN    BS1      BNA   NaN     3   31    NaN  20  10  ...    NaN   \n",
       "1       1871  NaN    CH1      CNA   NaN     2   28    NaN  19   9  ...    NaN   \n",
       "2       1871  NaN    CL1      CFC   NaN     8   29    NaN  10  19  ...    NaN   \n",
       "3       1871  NaN    FW1      KEK   NaN     7   19    NaN   7  12  ...    NaN   \n",
       "4       1871  NaN    NY2      NNA   NaN     5   33    NaN  16  17  ...    NaN   \n",
       "...      ...  ...    ...      ...   ...   ...  ...    ...  ..  ..  ...    ...   \n",
       "2800    2015   NL    LAN      LAD     W     1  162   81.0  92  70  ...  133.0   \n",
       "2801    2015   NL    SFN      SFG     W     2  162   81.0  84  78  ...  145.0   \n",
       "2802    2015   NL    ARI      ARI     W     3  162   81.0  79  83  ...  146.0   \n",
       "2803    2015   NL    SDN      SDP     W     4  162   81.0  74  88  ...  138.0   \n",
       "2804    2015   NL    COL      COL     W     5  162   81.0  68  94  ...  171.0   \n",
       "\n",
       "         FP                     name                          park  \\\n",
       "0     0.830     Boston Red Stockings           South End Grounds I   \n",
       "1     0.820  Chicago White Stockings       Union Base-Ball Grounds   \n",
       "2     0.810   Cleveland Forest Citys  National Association Grounds   \n",
       "3     0.800     Fort Wayne Kekiongas                Hamilton Field   \n",
       "4     0.830         New York Mutuals      Union Grounds (Brooklyn)   \n",
       "...     ...                      ...                           ...   \n",
       "2800  0.988      Los Angeles Dodgers                Dodger Stadium   \n",
       "2801  0.987     San Francisco Giants                     AT&T Park   \n",
       "2802  0.986     Arizona Diamondbacks                   Chase Field   \n",
       "2803  0.985         San Diego Padres                    Petco Park   \n",
       "2804  0.985         Colorado Rockies                   Coors Field   \n",
       "\n",
       "      attendance  BPF  PPF  teamIDBR  teamIDlahman45  teamIDretro  \n",
       "0            NaN  103   98       BOS             BS1          BS1  \n",
       "1            NaN  104  102       CHI             CH1          CH1  \n",
       "2            NaN   96  100       CLE             CL1          CL1  \n",
       "3            NaN  101  107       KEK             FW1          FW1  \n",
       "4            NaN   90   88       NYU             NY2          NY2  \n",
       "...          ...  ...  ...       ...             ...          ...  \n",
       "2800   3764815.0  101   98       LAD             LAN          LAN  \n",
       "2801   3375882.0   99   97       SFG             SFN          SFN  \n",
       "2802   2080145.0  107  106       ARI             ARI          ARI  \n",
       "2803   2459742.0   98   97       SDP             SDN          SDN  \n",
       "2804   2506789.0  119  118       COL             COL          COL  \n",
       "\n",
       "[2805 rows x 48 columns]>"
      ]
     },
     "metadata": {},
     "execution_count": 3
    }
   ],
   "source": [
    "teams_df = pd.read_csv(\"C:\\ClassRepo\\BaseballMadness\\Teams.csv\")\n",
    "playoffs_df = pd.read_csv(\"C:\\ClassRepo\\BaseballMadness\\PlayoffTeams.csv\")\n",
    "salaries_df = pd.read_csv(\"C:\\ClassRepo\\BaseballMadness\\Salaries.csv\")\n",
    "franchises_df = pd.read_csv(\"C:\\ClassRepo\\BaseballMadness\\TeamsFranchises.csv\")\n",
    "teams_df.head()\n",
    "teams_df.count"
   ]
  },
  {
   "cell_type": "code",
   "execution_count": 11,
   "metadata": {},
   "outputs": [],
   "source": [
    "# clean up Teams dataframes to chosen years (2005-2015)\n",
    "\n",
    "teams_df = teams_df.loc[teams_df['yearID'] > 2004]\n",
    "teams_df.count\n",
    "playoffs_df = playoffs_df.loc[playoffs_df['yearID'] > 2004]\n",
    "playoffs_df.count\n",
    "salaries_df = salaries_df.loc[salaries_df['yearID'] > 2004]"
   ]
  },
  {
   "cell_type": "code",
   "execution_count": 12,
   "metadata": {},
   "outputs": [
    {
     "output_type": "stream",
     "name": "stdout",
     "text": [
      "    teamIDwinner\n222          CHA\n224          LAA\n225          HOU\n226          SLN\n229          DET\n231          OAK\n233          NYN\n236          BOS\n238          CLE\n239          COL\n240          ARI\n243          TBA\n246          PHI\n247          LAN\n250          NYA\n257          TEX\n260          SFN\n269          MIL\n271          BAL\n284          PIT\n289          KCA\n301          TOR\n302          CHN\n    teamIDloser\n222         LAA\n223         BOS\n224         NYA\n225         SLN\n226         SDN\n227         ATL\n228         HOU\n229         OAK\n231         MIN\n232         NYN\n233         LAN\n235         DET\n236         CLE\n239         ARI\n240         CHN\n241         PHI\n242         COL\n245         CHA\n248         MIL\n249         TBA\n261         CIN\n263         TEX\n273         BAL\n277         WAS\n286         PIT\n297         KCA\n299         TOR\n"
     ]
    }
   ],
   "source": [
    "winners_df = playoffs_df[['teamIDwinner']].drop_duplicates()\n",
    "winners_df.head()\n",
    "winners_df.count()\n",
    "#losers_df\n",
    "losers_df = playoffs_df[['teamIDloser']].drop_duplicates()\n",
    "losers_df.head()\n",
    "losers_df.count()\n",
    "\n",
    "print(winners_df)\n",
    "print(losers_df)"
   ]
  },
  {
   "cell_type": "code",
   "execution_count": 17,
   "metadata": {},
   "outputs": [],
   "source": [
    "playoff_count_df = playoffs_df['teamIDwinner'].append(playoffs_df['teamIDloser'])\n",
    "playoff_count_df = playoff_count_df.value_counts()"
   ]
  },
  {
   "cell_type": "code",
   "execution_count": 96,
   "metadata": {},
   "outputs": [
    {
     "output_type": "execute_result",
     "data": {
      "text/plain": [
       "              salary                                                  \\\n",
       "               count          mean           std       min       25%   \n",
       "yearID teamID                                                          \n",
       "2005   ARI      27.0  2.308488e+06  3.427508e+06  317500.0  323750.0   \n",
       "       ATL      25.0  3.458292e+06  4.821131e+06  300000.0  450000.0   \n",
       "       BAL      28.0  2.639798e+06  3.889281e+06  316000.0  361250.0   \n",
       "       BOS      28.0  4.410897e+06  4.837406e+06  316000.0  825000.0   \n",
       "       CHA      27.0  2.784370e+06  2.740304e+06  318000.0  600000.0   \n",
       "...              ...           ...           ...       ...       ...   \n",
       "2015   SLN      26.0  4.586212e+06  5.801085e+06  507500.0  524000.0   \n",
       "       TBA      29.0  2.224870e+06  2.696028e+06  507500.0  513800.0   \n",
       "       TEX      30.0  4.791426e+06  6.984724e+06  507000.0  514137.5   \n",
       "       TOR      25.0  4.519696e+06  6.269735e+06  508500.0  517300.0   \n",
       "       WAS      29.0  5.365085e+06  5.965111e+06  507500.0  525000.0   \n",
       "\n",
       "                                                       Sum  \n",
       "                     50%        75%         max             \n",
       "yearID teamID                                               \n",
       "2005   ARI      550000.0  1925000.0  11000000.0   62329166  \n",
       "       ATL     1000000.0  4250000.0  16061802.0   86457302  \n",
       "       BAL      962500.0  2600000.0  17000000.0   73914333  \n",
       "       BOS     2875000.0  6750000.0  22000000.0  123505125  \n",
       "       CHA     2000000.0  3750000.0   8750000.0   75178000  \n",
       "...                  ...        ...         ...        ...  \n",
       "2015   SLN     2000000.0  6281250.0  19500000.0  119241500  \n",
       "       TBA     1021800.0  3025000.0  11000000.0   64521233  \n",
       "       TEX      937500.0  4593750.0  24000000.0  143742789  \n",
       "       TOR     1021600.0  5000000.0  22000000.0  112992400  \n",
       "       WAS     2500000.0  9000000.0  21000000.0  155587472  \n",
       "\n",
       "[308 rows x 9 columns]"
      ],
      "text/html": "<div>\n<style scoped>\n    .dataframe tbody tr th:only-of-type {\n        vertical-align: middle;\n    }\n\n    .dataframe tbody tr th {\n        vertical-align: top;\n    }\n\n    .dataframe thead tr th {\n        text-align: left;\n    }\n\n    .dataframe thead tr:last-of-type th {\n        text-align: right;\n    }\n</style>\n<table border=\"1\" class=\"dataframe\">\n  <thead>\n    <tr>\n      <th></th>\n      <th></th>\n      <th colspan=\"8\" halign=\"left\">salary</th>\n      <th>Sum</th>\n    </tr>\n    <tr>\n      <th></th>\n      <th></th>\n      <th>count</th>\n      <th>mean</th>\n      <th>std</th>\n      <th>min</th>\n      <th>25%</th>\n      <th>50%</th>\n      <th>75%</th>\n      <th>max</th>\n      <th></th>\n    </tr>\n    <tr>\n      <th>yearID</th>\n      <th>teamID</th>\n      <th></th>\n      <th></th>\n      <th></th>\n      <th></th>\n      <th></th>\n      <th></th>\n      <th></th>\n      <th></th>\n      <th></th>\n    </tr>\n  </thead>\n  <tbody>\n    <tr>\n      <th rowspan=\"5\" valign=\"top\">2005</th>\n      <th>ARI</th>\n      <td>27.0</td>\n      <td>2.308488e+06</td>\n      <td>3.427508e+06</td>\n      <td>317500.0</td>\n      <td>323750.0</td>\n      <td>550000.0</td>\n      <td>1925000.0</td>\n      <td>11000000.0</td>\n      <td>62329166</td>\n    </tr>\n    <tr>\n      <th>ATL</th>\n      <td>25.0</td>\n      <td>3.458292e+06</td>\n      <td>4.821131e+06</td>\n      <td>300000.0</td>\n      <td>450000.0</td>\n      <td>1000000.0</td>\n      <td>4250000.0</td>\n      <td>16061802.0</td>\n      <td>86457302</td>\n    </tr>\n    <tr>\n      <th>BAL</th>\n      <td>28.0</td>\n      <td>2.639798e+06</td>\n      <td>3.889281e+06</td>\n      <td>316000.0</td>\n      <td>361250.0</td>\n      <td>962500.0</td>\n      <td>2600000.0</td>\n      <td>17000000.0</td>\n      <td>73914333</td>\n    </tr>\n    <tr>\n      <th>BOS</th>\n      <td>28.0</td>\n      <td>4.410897e+06</td>\n      <td>4.837406e+06</td>\n      <td>316000.0</td>\n      <td>825000.0</td>\n      <td>2875000.0</td>\n      <td>6750000.0</td>\n      <td>22000000.0</td>\n      <td>123505125</td>\n    </tr>\n    <tr>\n      <th>CHA</th>\n      <td>27.0</td>\n      <td>2.784370e+06</td>\n      <td>2.740304e+06</td>\n      <td>318000.0</td>\n      <td>600000.0</td>\n      <td>2000000.0</td>\n      <td>3750000.0</td>\n      <td>8750000.0</td>\n      <td>75178000</td>\n    </tr>\n    <tr>\n      <th>...</th>\n      <th>...</th>\n      <td>...</td>\n      <td>...</td>\n      <td>...</td>\n      <td>...</td>\n      <td>...</td>\n      <td>...</td>\n      <td>...</td>\n      <td>...</td>\n      <td>...</td>\n    </tr>\n    <tr>\n      <th rowspan=\"5\" valign=\"top\">2015</th>\n      <th>SLN</th>\n      <td>26.0</td>\n      <td>4.586212e+06</td>\n      <td>5.801085e+06</td>\n      <td>507500.0</td>\n      <td>524000.0</td>\n      <td>2000000.0</td>\n      <td>6281250.0</td>\n      <td>19500000.0</td>\n      <td>119241500</td>\n    </tr>\n    <tr>\n      <th>TBA</th>\n      <td>29.0</td>\n      <td>2.224870e+06</td>\n      <td>2.696028e+06</td>\n      <td>507500.0</td>\n      <td>513800.0</td>\n      <td>1021800.0</td>\n      <td>3025000.0</td>\n      <td>11000000.0</td>\n      <td>64521233</td>\n    </tr>\n    <tr>\n      <th>TEX</th>\n      <td>30.0</td>\n      <td>4.791426e+06</td>\n      <td>6.984724e+06</td>\n      <td>507000.0</td>\n      <td>514137.5</td>\n      <td>937500.0</td>\n      <td>4593750.0</td>\n      <td>24000000.0</td>\n      <td>143742789</td>\n    </tr>\n    <tr>\n      <th>TOR</th>\n      <td>25.0</td>\n      <td>4.519696e+06</td>\n      <td>6.269735e+06</td>\n      <td>508500.0</td>\n      <td>517300.0</td>\n      <td>1021600.0</td>\n      <td>5000000.0</td>\n      <td>22000000.0</td>\n      <td>112992400</td>\n    </tr>\n    <tr>\n      <th>WAS</th>\n      <td>29.0</td>\n      <td>5.365085e+06</td>\n      <td>5.965111e+06</td>\n      <td>507500.0</td>\n      <td>525000.0</td>\n      <td>2500000.0</td>\n      <td>9000000.0</td>\n      <td>21000000.0</td>\n      <td>155587472</td>\n    </tr>\n  </tbody>\n</table>\n<p>308 rows × 9 columns</p>\n</div>"
     },
     "metadata": {},
     "execution_count": 96
    }
   ],
   "source": [
    "#MONEY SECTION\n",
    "#How much is a team that got to the playoffs between 2005-2015 spending #per year\n",
    "# #What is the average per team per general player per    \n",
    "# Create 2 dataframes answering 2 objectives:\n",
    "# salaries_describe['Sum'] - How much is a play offs team spends total per year \n",
    "# salaries_describe['mean'] - How much the playoff team spends per general player per year\n",
    "# Find the teams that spend Too Much - top 10% (?) - 3\n",
    "# Make Bar graph for 1 and 2\n",
    "\n",
    "salaries_test_df = salaries_df.loc[salaries_df['teamID'].isin(playoff_count_df.index)]\n",
    "\n",
    "salaries_test_df = salaries_test_df.groupby(['yearID', 'teamID'])\n",
    "salaries_describe = salaries_test_df.describe()\n",
    "salaries_describe['Sum'] = salaries_test_df.sum()\n",
    "top_total_spenders = \n",
    "top average_spenders"
   ]
  },
  {
   "cell_type": "code",
   "execution_count": null,
   "metadata": {},
   "outputs": [],
   "source": []
  },
  {
   "cell_type": "code",
   "execution_count": null,
   "metadata": {},
   "outputs": [],
   "source": []
  }
 ]
}