{
 "cells": [
  {
   "cell_type": "code",
   "execution_count": 1,
   "metadata": {},
   "outputs": [],
   "source": [
    "import pandas as pd\n",
    "import numpy  as np\n",
    "import matplotlib.pyplot as plt"
   ]
  },
  {
   "cell_type": "code",
   "execution_count": 2,
   "metadata": {},
   "outputs": [
    {
     "data": {
      "text/html": [
       "<div>\n",
       "<style scoped>\n",
       "    .dataframe tbody tr th:only-of-type {\n",
       "        vertical-align: middle;\n",
       "    }\n",
       "\n",
       "    .dataframe tbody tr th {\n",
       "        vertical-align: top;\n",
       "    }\n",
       "\n",
       "    .dataframe thead th {\n",
       "        text-align: right;\n",
       "    }\n",
       "</style>\n",
       "<table border=\"1\" class=\"dataframe\">\n",
       "  <thead>\n",
       "    <tr style=\"text-align: right;\">\n",
       "      <th></th>\n",
       "      <th>yearID</th>\n",
       "      <th>lgID</th>\n",
       "      <th>teamID</th>\n",
       "      <th>franchID</th>\n",
       "      <th>divID</th>\n",
       "      <th>Rank</th>\n",
       "      <th>G</th>\n",
       "      <th>Ghome</th>\n",
       "      <th>W</th>\n",
       "      <th>L</th>\n",
       "      <th>...</th>\n",
       "      <th>DP</th>\n",
       "      <th>FP</th>\n",
       "      <th>name</th>\n",
       "      <th>park</th>\n",
       "      <th>attendance</th>\n",
       "      <th>BPF</th>\n",
       "      <th>PPF</th>\n",
       "      <th>teamIDBR</th>\n",
       "      <th>teamIDlahman45</th>\n",
       "      <th>teamIDretro</th>\n",
       "    </tr>\n",
       "  </thead>\n",
       "  <tbody>\n",
       "    <tr>\n",
       "      <th>0</th>\n",
       "      <td>1871</td>\n",
       "      <td>NaN</td>\n",
       "      <td>BS1</td>\n",
       "      <td>BNA</td>\n",
       "      <td>NaN</td>\n",
       "      <td>3</td>\n",
       "      <td>31</td>\n",
       "      <td>NaN</td>\n",
       "      <td>20</td>\n",
       "      <td>10</td>\n",
       "      <td>...</td>\n",
       "      <td>NaN</td>\n",
       "      <td>0.83</td>\n",
       "      <td>Boston Red Stockings</td>\n",
       "      <td>South End Grounds I</td>\n",
       "      <td>NaN</td>\n",
       "      <td>103</td>\n",
       "      <td>98</td>\n",
       "      <td>BOS</td>\n",
       "      <td>BS1</td>\n",
       "      <td>BS1</td>\n",
       "    </tr>\n",
       "    <tr>\n",
       "      <th>1</th>\n",
       "      <td>1871</td>\n",
       "      <td>NaN</td>\n",
       "      <td>CH1</td>\n",
       "      <td>CNA</td>\n",
       "      <td>NaN</td>\n",
       "      <td>2</td>\n",
       "      <td>28</td>\n",
       "      <td>NaN</td>\n",
       "      <td>19</td>\n",
       "      <td>9</td>\n",
       "      <td>...</td>\n",
       "      <td>NaN</td>\n",
       "      <td>0.82</td>\n",
       "      <td>Chicago White Stockings</td>\n",
       "      <td>Union Base-Ball Grounds</td>\n",
       "      <td>NaN</td>\n",
       "      <td>104</td>\n",
       "      <td>102</td>\n",
       "      <td>CHI</td>\n",
       "      <td>CH1</td>\n",
       "      <td>CH1</td>\n",
       "    </tr>\n",
       "    <tr>\n",
       "      <th>2</th>\n",
       "      <td>1871</td>\n",
       "      <td>NaN</td>\n",
       "      <td>CL1</td>\n",
       "      <td>CFC</td>\n",
       "      <td>NaN</td>\n",
       "      <td>8</td>\n",
       "      <td>29</td>\n",
       "      <td>NaN</td>\n",
       "      <td>10</td>\n",
       "      <td>19</td>\n",
       "      <td>...</td>\n",
       "      <td>NaN</td>\n",
       "      <td>0.81</td>\n",
       "      <td>Cleveland Forest Citys</td>\n",
       "      <td>National Association Grounds</td>\n",
       "      <td>NaN</td>\n",
       "      <td>96</td>\n",
       "      <td>100</td>\n",
       "      <td>CLE</td>\n",
       "      <td>CL1</td>\n",
       "      <td>CL1</td>\n",
       "    </tr>\n",
       "    <tr>\n",
       "      <th>3</th>\n",
       "      <td>1871</td>\n",
       "      <td>NaN</td>\n",
       "      <td>FW1</td>\n",
       "      <td>KEK</td>\n",
       "      <td>NaN</td>\n",
       "      <td>7</td>\n",
       "      <td>19</td>\n",
       "      <td>NaN</td>\n",
       "      <td>7</td>\n",
       "      <td>12</td>\n",
       "      <td>...</td>\n",
       "      <td>NaN</td>\n",
       "      <td>0.80</td>\n",
       "      <td>Fort Wayne Kekiongas</td>\n",
       "      <td>Hamilton Field</td>\n",
       "      <td>NaN</td>\n",
       "      <td>101</td>\n",
       "      <td>107</td>\n",
       "      <td>KEK</td>\n",
       "      <td>FW1</td>\n",
       "      <td>FW1</td>\n",
       "    </tr>\n",
       "    <tr>\n",
       "      <th>4</th>\n",
       "      <td>1871</td>\n",
       "      <td>NaN</td>\n",
       "      <td>NY2</td>\n",
       "      <td>NNA</td>\n",
       "      <td>NaN</td>\n",
       "      <td>5</td>\n",
       "      <td>33</td>\n",
       "      <td>NaN</td>\n",
       "      <td>16</td>\n",
       "      <td>17</td>\n",
       "      <td>...</td>\n",
       "      <td>NaN</td>\n",
       "      <td>0.83</td>\n",
       "      <td>New York Mutuals</td>\n",
       "      <td>Union Grounds (Brooklyn)</td>\n",
       "      <td>NaN</td>\n",
       "      <td>90</td>\n",
       "      <td>88</td>\n",
       "      <td>NYU</td>\n",
       "      <td>NY2</td>\n",
       "      <td>NY2</td>\n",
       "    </tr>\n",
       "  </tbody>\n",
       "</table>\n",
       "<p>5 rows × 48 columns</p>\n",
       "</div>"
      ],
      "text/plain": [
       "   yearID lgID teamID franchID divID  Rank   G  Ghome   W   L  ...  DP    FP  \\\n",
       "0    1871  NaN    BS1      BNA   NaN     3  31    NaN  20  10  ... NaN  0.83   \n",
       "1    1871  NaN    CH1      CNA   NaN     2  28    NaN  19   9  ... NaN  0.82   \n",
       "2    1871  NaN    CL1      CFC   NaN     8  29    NaN  10  19  ... NaN  0.81   \n",
       "3    1871  NaN    FW1      KEK   NaN     7  19    NaN   7  12  ... NaN  0.80   \n",
       "4    1871  NaN    NY2      NNA   NaN     5  33    NaN  16  17  ... NaN  0.83   \n",
       "\n",
       "                      name                          park  attendance  BPF  \\\n",
       "0     Boston Red Stockings           South End Grounds I         NaN  103   \n",
       "1  Chicago White Stockings       Union Base-Ball Grounds         NaN  104   \n",
       "2   Cleveland Forest Citys  National Association Grounds         NaN   96   \n",
       "3     Fort Wayne Kekiongas                Hamilton Field         NaN  101   \n",
       "4         New York Mutuals      Union Grounds (Brooklyn)         NaN   90   \n",
       "\n",
       "   PPF  teamIDBR  teamIDlahman45  teamIDretro  \n",
       "0   98       BOS             BS1          BS1  \n",
       "1  102       CHI             CH1          CH1  \n",
       "2  100       CLE             CL1          CL1  \n",
       "3  107       KEK             FW1          FW1  \n",
       "4   88       NYU             NY2          NY2  \n",
       "\n",
       "[5 rows x 48 columns]"
      ]
     },
     "execution_count": 2,
     "metadata": {},
     "output_type": "execute_result"
    }
   ],
   "source": [
    "teams_df = pd.read_csv(\".\\Teams.csv\")\n",
    "playoffs_df = pd.read_csv(\".\\PlayoffTeams.csv\")\n",
    "salaries_df = pd.read_csv(\".\\Salaries.csv\")\n",
    "franchises_df = pd.read_csv(\".\\TeamsFranchises.csv\")\n",
    "teams_df.head()\n",
    "#teams_df.count"
   ]
  },
  {
   "cell_type": "code",
   "execution_count": 3,
   "metadata": {},
   "outputs": [
    {
     "data": {
      "text/plain": [
       "<bound method DataFrame.count of      yearID  round teamIDwinner lgIDwinner teamIDloser lgIDloser  wins  \\\n",
       "222    2005   ALCS          CHA         AL         LAA        AL     4   \n",
       "223    2005  ALDS1          CHA         AL         BOS        AL     3   \n",
       "224    2005  ALDS2          LAA         AL         NYA        AL     3   \n",
       "225    2005   NLCS          HOU         NL         SLN        NL     4   \n",
       "226    2005  NLDS1          SLN         NL         SDN        NL     3   \n",
       "..      ...    ...          ...        ...         ...       ...   ...   \n",
       "302    2015   NLWC          CHN         NL         PIT        NL     1   \n",
       "303    2015   NLCS          NYN         NL         CHN        NL     4   \n",
       "304    2015  NLDS1          CHN         NL         SLN        NL     3   \n",
       "305    2015  NLDS2          NYN         NL         LAN        NL     3   \n",
       "306    2015     WS          KCA         AL         NYN        NL     4   \n",
       "\n",
       "     losses  ties  \n",
       "222       1     0  \n",
       "223       0     0  \n",
       "224       2     0  \n",
       "225       2     0  \n",
       "226       0     0  \n",
       "..      ...   ...  \n",
       "302       0     0  \n",
       "303       0     0  \n",
       "304       1     0  \n",
       "305       2     0  \n",
       "306       1     0  \n",
       "\n",
       "[85 rows x 9 columns]>"
      ]
     },
     "execution_count": 3,
     "metadata": {},
     "output_type": "execute_result"
    }
   ],
   "source": [
    "# clean up Teams dataframes to chosen years (2005-2015)\n",
    "\n",
    "teams_df = teams_df.loc[teams_df['yearID'] > 2004]\n",
    "teams_df.count\n",
    "playoffs_df = playoffs_df.loc[playoffs_df['yearID'] > 2004]\n",
    "playoffs_df.count"
   ]
  },
  {
   "cell_type": "code",
   "execution_count": 4,
   "metadata": {},
   "outputs": [
    {
     "name": "stdout",
     "output_type": "stream",
     "text": [
      "    teamIDwinner\n",
      "222          CHA\n",
      "224          LAA\n",
      "225          HOU\n",
      "226          SLN\n",
      "229          DET\n",
      "231          OAK\n",
      "233          NYN\n",
      "236          BOS\n",
      "238          CLE\n",
      "239          COL\n",
      "240          ARI\n",
      "243          TBA\n",
      "246          PHI\n",
      "247          LAN\n",
      "250          NYA\n",
      "257          TEX\n",
      "260          SFN\n",
      "269          MIL\n",
      "271          BAL\n",
      "284          PIT\n",
      "289          KCA\n",
      "301          TOR\n",
      "302          CHN\n",
      "    teamIDloser\n",
      "222         LAA\n",
      "223         BOS\n",
      "224         NYA\n",
      "225         SLN\n",
      "226         SDN\n",
      "227         ATL\n",
      "228         HOU\n",
      "229         OAK\n",
      "231         MIN\n",
      "232         NYN\n",
      "233         LAN\n",
      "235         DET\n",
      "236         CLE\n",
      "239         ARI\n",
      "240         CHN\n",
      "241         PHI\n",
      "242         COL\n",
      "245         CHA\n",
      "248         MIL\n",
      "249         TBA\n",
      "261         CIN\n",
      "263         TEX\n",
      "273         BAL\n",
      "277         WAS\n",
      "286         PIT\n",
      "297         KCA\n",
      "299         TOR\n"
     ]
    }
   ],
   "source": [
    "# plot_df = cleaned_df[['Drug Regimen', 'Mouse ID']].drop_duplicates().groupby('Drug Regimen').count()\n",
    "\n",
    "winners_df = playoffs_df[['teamIDwinner']].drop_duplicates()\n",
    "winners_df.head()\n",
    "winners_df.count()\n",
    "#losers_df\n",
    "losers_df = playoffs_df[['teamIDloser']].drop_duplicates()\n",
    "losers_df.head()\n",
    "losers_df.count()\n",
    "\n",
    "print(winners_df)\n",
    "print(losers_df)"
   ]
  },
  {
   "cell_type": "code",
   "execution_count": 5,
   "metadata": {},
   "outputs": [
    {
     "data": {
      "text/plain": [
       "SLN    18\n",
       "NYA    12\n",
       "DET    11\n",
       "SFN    10\n",
       "PHI    10\n",
       "BOS    10\n",
       "LAN     9\n",
       "TEX     8\n",
       "TBA     7\n",
       "LAA     7\n",
       "KCA     7\n",
       "NYN     5\n",
       "HOU     5\n",
       "OAK     5\n",
       "CHN     5\n",
       "CHA     4\n",
       "BAL     4\n",
       "ATL     4\n",
       "COL     4\n",
       "PIT     4\n",
       "MIN     3\n",
       "CIN     3\n",
       "ARI     3\n",
       "CLE     3\n",
       "MIL     3\n",
       "TOR     2\n",
       "SDN     2\n",
       "WAS     2\n",
       "dtype: int64"
      ]
     },
     "execution_count": 5,
     "metadata": {},
     "output_type": "execute_result"
    }
   ],
   "source": [
    "playoff_count_df = playoffs_df['teamIDwinner'].append(playoffs_df['teamIDloser'])\n",
    "playoff_count_df = playoff_count_df.value_counts()\n",
    "playoff_count_df\n",
    "#len(playoff_count_df)"
   ]
  },
  {
   "cell_type": "code",
   "execution_count": 6,
   "metadata": {},
   "outputs": [
    {
     "data": {
      "text/plain": [
       "<bound method DataFrame.count of        yearID teamID lgID   playerID    salary\n",
       "0        1985    ATL   NL  barkele01    870000\n",
       "1        1985    ATL   NL  bedrost01    550000\n",
       "2        1985    ATL   NL  benedbr01    545000\n",
       "3        1985    ATL   NL   campri01    633333\n",
       "4        1985    ATL   NL  ceronri01    625000\n",
       "...       ...    ...  ...        ...       ...\n",
       "25570    2015    WAS   NL  treinbl01    512800\n",
       "25571    2015    WAS   NL  ugglada01    507500\n",
       "25572    2015    WAS   NL  werthja01  21000000\n",
       "25573    2015    WAS   NL  zimmejo02  16500000\n",
       "25574    2015    WAS   NL  zimmery01  14000000\n",
       "\n",
       "[25575 rows x 5 columns]>"
      ]
     },
     "execution_count": 6,
     "metadata": {},
     "output_type": "execute_result"
    }
   ],
   "source": [
    "#Salaries csv \n",
    "salaries_df = pd.read_csv(\"./Salaries.csv\")\n",
    "salaries_df.head()\n",
    "salaries_df.count"
   ]
  },
  {
   "cell_type": "code",
   "execution_count": 7,
   "metadata": {},
   "outputs": [
    {
     "data": {
      "text/plain": [
       "<bound method DataFrame.count of        yearID teamID lgID   playerID    salary\n",
       "16463    2005    ARI   NL  aquingr01    325000\n",
       "16464    2005    ARI   NL  brunebr01    322500\n",
       "16465    2005    ARI   NL  choatra01    550000\n",
       "16466    2005    ARI   NL  cintral01    360000\n",
       "16467    2005    ARI   NL  clarkto02    750000\n",
       "...       ...    ...  ...        ...       ...\n",
       "25570    2015    WAS   NL  treinbl01    512800\n",
       "25571    2015    WAS   NL  ugglada01    507500\n",
       "25572    2015    WAS   NL  werthja01  21000000\n",
       "25573    2015    WAS   NL  zimmejo02  16500000\n",
       "25574    2015    WAS   NL  zimmery01  14000000\n",
       "\n",
       "[9112 rows x 5 columns]>"
      ]
     },
     "execution_count": 7,
     "metadata": {},
     "output_type": "execute_result"
    }
   ],
   "source": [
    "#select years 2005-2015\n",
    "salaries_yr = salaries_df.loc[salaries_df['yearID'] > 2004]\n",
    "salaries_yr.count\n",
    "#salaries_yr.head()"
   ]
  },
  {
   "cell_type": "code",
   "execution_count": 34,
   "metadata": {},
   "outputs": [
    {
     "name": "stderr",
     "output_type": "stream",
     "text": [
      "<ipython-input-34-3016f9548abe>:9: SettingWithCopyWarning: \n",
      "A value is trying to be set on a copy of a slice from a DataFrame.\n",
      "Try using .loc[row_indexer,col_indexer] = value instead\n",
      "\n",
      "See the caveats in the documentation: https://pandas.pydata.org/pandas-docs/stable/user_guide/indexing.html#returning-a-view-versus-a-copy\n",
      "  salaries_yr_df[\"Salary in Millions\"] = millions_of_dollars\n"
     ]
    },
    {
     "data": {
      "text/html": [
       "<div>\n",
       "<style scoped>\n",
       "    .dataframe tbody tr th:only-of-type {\n",
       "        vertical-align: middle;\n",
       "    }\n",
       "\n",
       "    .dataframe tbody tr th {\n",
       "        vertical-align: top;\n",
       "    }\n",
       "\n",
       "    .dataframe thead th {\n",
       "        text-align: right;\n",
       "    }\n",
       "</style>\n",
       "<table border=\"1\" class=\"dataframe\">\n",
       "  <thead>\n",
       "    <tr style=\"text-align: right;\">\n",
       "      <th></th>\n",
       "      <th></th>\n",
       "      <th>salary</th>\n",
       "      <th>Salary in Millions</th>\n",
       "    </tr>\n",
       "    <tr>\n",
       "      <th>playerID</th>\n",
       "      <th>yearID</th>\n",
       "      <th></th>\n",
       "      <th></th>\n",
       "    </tr>\n",
       "  </thead>\n",
       "  <tbody>\n",
       "    <tr>\n",
       "      <th rowspan=\"4\" valign=\"top\">abreubo01</th>\n",
       "      <th>2005</th>\n",
       "      <td>13100000</td>\n",
       "      <td>13.100000</td>\n",
       "    </tr>\n",
       "    <tr>\n",
       "      <th>2006</th>\n",
       "      <td>13600000</td>\n",
       "      <td>13.600000</td>\n",
       "    </tr>\n",
       "    <tr>\n",
       "      <th>2007</th>\n",
       "      <td>15000000</td>\n",
       "      <td>15.000000</td>\n",
       "    </tr>\n",
       "    <tr>\n",
       "      <th>2008</th>\n",
       "      <td>16000000</td>\n",
       "      <td>16.000000</td>\n",
       "    </tr>\n",
       "    <tr>\n",
       "      <th>anderbr04</th>\n",
       "      <th>2015</th>\n",
       "      <td>10000000</td>\n",
       "      <td>10.000000</td>\n",
       "    </tr>\n",
       "    <tr>\n",
       "      <th rowspan=\"4\" valign=\"top\">anderga01</th>\n",
       "      <th>2005</th>\n",
       "      <td>9600000</td>\n",
       "      <td>9.600000</td>\n",
       "    </tr>\n",
       "    <tr>\n",
       "      <th>2006</th>\n",
       "      <td>10600000</td>\n",
       "      <td>10.600000</td>\n",
       "    </tr>\n",
       "    <tr>\n",
       "      <th>2007</th>\n",
       "      <td>11600000</td>\n",
       "      <td>11.600000</td>\n",
       "    </tr>\n",
       "    <tr>\n",
       "      <th>2008</th>\n",
       "      <td>12600000</td>\n",
       "      <td>12.600000</td>\n",
       "    </tr>\n",
       "    <tr>\n",
       "      <th>andruel01</th>\n",
       "      <th>2015</th>\n",
       "      <td>15000000</td>\n",
       "      <td>15.000000</td>\n",
       "    </tr>\n",
       "    <tr>\n",
       "      <th rowspan=\"3\" valign=\"top\">arroybr01</th>\n",
       "      <th>2009</th>\n",
       "      <td>10125000</td>\n",
       "      <td>10.125000</td>\n",
       "    </tr>\n",
       "    <tr>\n",
       "      <th>2010</th>\n",
       "      <td>11625000</td>\n",
       "      <td>11.625000</td>\n",
       "    </tr>\n",
       "    <tr>\n",
       "      <th>2013</th>\n",
       "      <td>16445535</td>\n",
       "      <td>16.445535</td>\n",
       "    </tr>\n",
       "    <tr>\n",
       "      <th rowspan=\"2\" valign=\"top\">bagweje01</th>\n",
       "      <th>2005</th>\n",
       "      <td>18000000</td>\n",
       "      <td>18.000000</td>\n",
       "    </tr>\n",
       "    <tr>\n",
       "      <th>2006</th>\n",
       "      <td>19369019</td>\n",
       "      <td>19.369019</td>\n",
       "    </tr>\n",
       "    <tr>\n",
       "      <th>baileho02</th>\n",
       "      <th>2015</th>\n",
       "      <td>10000000</td>\n",
       "      <td>10.000000</td>\n",
       "    </tr>\n",
       "    <tr>\n",
       "      <th rowspan=\"4\" valign=\"top\">bautijo02</th>\n",
       "      <th>2012</th>\n",
       "      <td>14000000</td>\n",
       "      <td>14.000000</td>\n",
       "    </tr>\n",
       "    <tr>\n",
       "      <th>2013</th>\n",
       "      <td>14000000</td>\n",
       "      <td>14.000000</td>\n",
       "    </tr>\n",
       "    <tr>\n",
       "      <th>2014</th>\n",
       "      <td>14000000</td>\n",
       "      <td>14.000000</td>\n",
       "    </tr>\n",
       "    <tr>\n",
       "      <th>2015</th>\n",
       "      <td>14000000</td>\n",
       "      <td>14.000000</td>\n",
       "    </tr>\n",
       "    <tr>\n",
       "      <th rowspan=\"2\" valign=\"top\">bayja01</th>\n",
       "      <th>2011</th>\n",
       "      <td>18125000</td>\n",
       "      <td>18.125000</td>\n",
       "    </tr>\n",
       "    <tr>\n",
       "      <th>2012</th>\n",
       "      <td>18125000</td>\n",
       "      <td>18.125000</td>\n",
       "    </tr>\n",
       "    <tr>\n",
       "      <th rowspan=\"7\" valign=\"top\">beckejo02</th>\n",
       "      <th>2008</th>\n",
       "      <td>10166666</td>\n",
       "      <td>10.166666</td>\n",
       "    </tr>\n",
       "    <tr>\n",
       "      <th>2009</th>\n",
       "      <td>11166666</td>\n",
       "      <td>11.166666</td>\n",
       "    </tr>\n",
       "    <tr>\n",
       "      <th>2010</th>\n",
       "      <td>12100000</td>\n",
       "      <td>12.100000</td>\n",
       "    </tr>\n",
       "    <tr>\n",
       "      <th>2011</th>\n",
       "      <td>17000000</td>\n",
       "      <td>17.000000</td>\n",
       "    </tr>\n",
       "    <tr>\n",
       "      <th>2012</th>\n",
       "      <td>17000000</td>\n",
       "      <td>17.000000</td>\n",
       "    </tr>\n",
       "    <tr>\n",
       "      <th>2013</th>\n",
       "      <td>17000000</td>\n",
       "      <td>17.000000</td>\n",
       "    </tr>\n",
       "    <tr>\n",
       "      <th>2014</th>\n",
       "      <td>15750000</td>\n",
       "      <td>15.750000</td>\n",
       "    </tr>\n",
       "    <tr>\n",
       "      <th>bellhe01</th>\n",
       "      <th>2013</th>\n",
       "      <td>10000000</td>\n",
       "      <td>10.000000</td>\n",
       "    </tr>\n",
       "  </tbody>\n",
       "</table>\n",
       "</div>"
      ],
      "text/plain": [
       "                    salary  Salary in Millions\n",
       "playerID  yearID                              \n",
       "abreubo01 2005    13100000           13.100000\n",
       "          2006    13600000           13.600000\n",
       "          2007    15000000           15.000000\n",
       "          2008    16000000           16.000000\n",
       "anderbr04 2015    10000000           10.000000\n",
       "anderga01 2005     9600000            9.600000\n",
       "          2006    10600000           10.600000\n",
       "          2007    11600000           11.600000\n",
       "          2008    12600000           12.600000\n",
       "andruel01 2015    15000000           15.000000\n",
       "arroybr01 2009    10125000           10.125000\n",
       "          2010    11625000           11.625000\n",
       "          2013    16445535           16.445535\n",
       "bagweje01 2005    18000000           18.000000\n",
       "          2006    19369019           19.369019\n",
       "baileho02 2015    10000000           10.000000\n",
       "bautijo02 2012    14000000           14.000000\n",
       "          2013    14000000           14.000000\n",
       "          2014    14000000           14.000000\n",
       "          2015    14000000           14.000000\n",
       "bayja01   2011    18125000           18.125000\n",
       "          2012    18125000           18.125000\n",
       "beckejo02 2008    10166666           10.166666\n",
       "          2009    11166666           11.166666\n",
       "          2010    12100000           12.100000\n",
       "          2011    17000000           17.000000\n",
       "          2012    17000000           17.000000\n",
       "          2013    17000000           17.000000\n",
       "          2014    15750000           15.750000\n",
       "bellhe01  2013    10000000           10.000000"
      ]
     },
     "execution_count": 34,
     "metadata": {},
     "output_type": "execute_result"
    }
   ],
   "source": [
    "#Find top salaries - using df with years 2005-2015 and selecting for playoff teams\n",
    "#Looking for top 10%, narrow down to 900ish rows\n",
    "\n",
    "#salaries_yr.describe()\n",
    "salaries_yr_df = salaries_yr.loc[salaries_yr['teamID'].isin(playoff_count_df.index)]\n",
    "salaries_yr_df\n",
    "\n",
    "millions_of_dollars  = salaries_yr_df[\"salary\"]/1000000\n",
    "salaries_yr_df[\"Salary in Millions\"] = millions_of_dollars\n",
    "salaries_yr_df\n",
    "\n",
    "salaries_millions = salaries_yr_df.loc[salaries_yr_df[\"Salary in Millions\"]>9.5]\n",
    "salaries_millions\n",
    "\n",
    "#groupby players\n",
    "top_total_spenders = salaries_millions.groupby([\"playerID\", \"yearID\"]).sum()\n",
    "top_total_spenders.head(30)\n",
    "#top_total_spenders.count()\n"
   ]
  },
  {
   "cell_type": "code",
   "execution_count": 25,
   "metadata": {},
   "outputs": [],
   "source": [
    "top_total_spenders[\"Average Salary\"]= top_total_spenders.sum()\n",
    "#How to fill in average column??\n"
   ]
  },
  {
   "cell_type": "code",
   "execution_count": 56,
   "metadata": {},
   "outputs": [
    {
     "data": {
      "text/html": [
       "<div>\n",
       "<style scoped>\n",
       "    .dataframe tbody tr th:only-of-type {\n",
       "        vertical-align: middle;\n",
       "    }\n",
       "\n",
       "    .dataframe tbody tr th {\n",
       "        vertical-align: top;\n",
       "    }\n",
       "\n",
       "    .dataframe thead th {\n",
       "        text-align: right;\n",
       "    }\n",
       "</style>\n",
       "<table border=\"1\" class=\"dataframe\">\n",
       "  <thead>\n",
       "    <tr style=\"text-align: right;\">\n",
       "      <th></th>\n",
       "      <th></th>\n",
       "      <th>salary</th>\n",
       "      <th>Salary in Millions</th>\n",
       "    </tr>\n",
       "    <tr>\n",
       "      <th>playerID</th>\n",
       "      <th>yearID</th>\n",
       "      <th></th>\n",
       "      <th></th>\n",
       "    </tr>\n",
       "  </thead>\n",
       "  <tbody>\n",
       "    <tr>\n",
       "      <th rowspan=\"2\" valign=\"top\">rodrial01</th>\n",
       "      <th>2009</th>\n",
       "      <td>33000000</td>\n",
       "      <td>33.0000</td>\n",
       "    </tr>\n",
       "    <tr>\n",
       "      <th>2010</th>\n",
       "      <td>33000000</td>\n",
       "      <td>33.0000</td>\n",
       "    </tr>\n",
       "    <tr>\n",
       "      <th>kershcl01</th>\n",
       "      <th>2015</th>\n",
       "      <td>32571000</td>\n",
       "      <td>32.5710</td>\n",
       "    </tr>\n",
       "    <tr>\n",
       "      <th rowspan=\"3\" valign=\"top\">rodrial01</th>\n",
       "      <th>2011</th>\n",
       "      <td>32000000</td>\n",
       "      <td>32.0000</td>\n",
       "    </tr>\n",
       "    <tr>\n",
       "      <th>2012</th>\n",
       "      <td>30000000</td>\n",
       "      <td>30.0000</td>\n",
       "    </tr>\n",
       "    <tr>\n",
       "      <th>2013</th>\n",
       "      <td>29000000</td>\n",
       "      <td>29.0000</td>\n",
       "    </tr>\n",
       "    <tr>\n",
       "      <th>verlaju01</th>\n",
       "      <th>2015</th>\n",
       "      <td>28000000</td>\n",
       "      <td>28.0000</td>\n",
       "    </tr>\n",
       "    <tr>\n",
       "      <th>rodrial01</th>\n",
       "      <th>2008</th>\n",
       "      <td>28000000</td>\n",
       "      <td>28.0000</td>\n",
       "    </tr>\n",
       "    <tr>\n",
       "      <th>wellsve01</th>\n",
       "      <th>2011</th>\n",
       "      <td>26187500</td>\n",
       "      <td>26.1875</td>\n",
       "    </tr>\n",
       "    <tr>\n",
       "      <th>rodrial01</th>\n",
       "      <th>2005</th>\n",
       "      <td>26000000</td>\n",
       "      <td>26.0000</td>\n",
       "    </tr>\n",
       "    <tr>\n",
       "      <th>greinza01</th>\n",
       "      <th>2014</th>\n",
       "      <td>26000000</td>\n",
       "      <td>26.0000</td>\n",
       "    </tr>\n",
       "    <tr>\n",
       "      <th>howarry01</th>\n",
       "      <th>2015</th>\n",
       "      <td>25000000</td>\n",
       "      <td>25.0000</td>\n",
       "    </tr>\n",
       "    <tr>\n",
       "      <th>leecl02</th>\n",
       "      <th>2013</th>\n",
       "      <td>25000000</td>\n",
       "      <td>25.0000</td>\n",
       "    </tr>\n",
       "    <tr>\n",
       "      <th>howarry01</th>\n",
       "      <th>2014</th>\n",
       "      <td>25000000</td>\n",
       "      <td>25.0000</td>\n",
       "    </tr>\n",
       "    <tr>\n",
       "      <th>greinza01</th>\n",
       "      <th>2015</th>\n",
       "      <td>25000000</td>\n",
       "      <td>25.0000</td>\n",
       "    </tr>\n",
       "  </tbody>\n",
       "</table>\n",
       "</div>"
      ],
      "text/plain": [
       "                    salary  Salary in Millions\n",
       "playerID  yearID                              \n",
       "rodrial01 2009    33000000             33.0000\n",
       "          2010    33000000             33.0000\n",
       "kershcl01 2015    32571000             32.5710\n",
       "rodrial01 2011    32000000             32.0000\n",
       "          2012    30000000             30.0000\n",
       "          2013    29000000             29.0000\n",
       "verlaju01 2015    28000000             28.0000\n",
       "rodrial01 2008    28000000             28.0000\n",
       "wellsve01 2011    26187500             26.1875\n",
       "rodrial01 2005    26000000             26.0000\n",
       "greinza01 2014    26000000             26.0000\n",
       "howarry01 2015    25000000             25.0000\n",
       "leecl02   2013    25000000             25.0000\n",
       "howarry01 2014    25000000             25.0000\n",
       "greinza01 2015    25000000             25.0000"
      ]
     },
     "execution_count": 56,
     "metadata": {},
     "output_type": "execute_result"
    }
   ],
   "source": [
    "top_total_spenders_sorted = top_total_spenders.sort_values([\"Salary in Millions\"], ascending=False)\n",
    "top_total_spenders_sorted.head(15)\n"
   ]
  },
  {
   "cell_type": "code",
   "execution_count": 11,
   "metadata": {},
   "outputs": [],
   "source": [
    "#Top 10 earners average\n"
   ]
  },
  {
   "cell_type": "code",
   "execution_count": 41,
   "metadata": {},
   "outputs": [
    {
     "data": {
      "image/png": "[encoded data removed]",
      "text/plain": [
       "<Figure size 432x288 with 1 Axes>"
      ]
     },
     "metadata": {
      "needs_background": "light"
     },
     "output_type": "display_data"
    }
   ],
   "source": [
    "salaries = salaries_yr_df[\"Salary in Millions\"]\n",
    "fig1, ax1 = plt.subplots()\n",
    "ax1.set_title('MLB Salaries 2005-2015')\n",
    "ax1.set_ylabel('Millions of Dollars')\n",
    "ax1.boxplot(salaries)\n",
    "plt.show()"
   ]
  },
  {
   "cell_type": "code",
   "execution_count": 50,
   "metadata": {},
   "outputs": [
    {
     "data": {
      "image/png": "[encoded data removed]",
      "text/plain": [
       "<Figure size 432x288 with 1 Axes>"
      ]
     },
     "metadata": {
      "needs_background": "light"
     },
     "output_type": "display_data"
    }
   ],
   "source": [
    "#teams_df = teams_df.loc[teams_df['yearID'] > 2004]\n",
    "\n",
    "salaries_2005_df = salaries_yr_df.loc[salaries_yr_df[\"yearID\"]==2005]\n",
    "salaries_2005_df\n",
    "\n",
    "salaries_2005 = salaries_2005_df[\"Salary in Millions\"]\n",
    "\n",
    "fig1, ax1 = plt.subplots()\n",
    "ax1.set_title('MLB Salaries 2005')\n",
    "ax1.set_ylabel('Millions of Dollars')\n",
    "ax1.boxplot(salaries_2005)\n",
    "plt.show()"
   ]
  },
  {
   "cell_type": "code",
   "execution_count": 51,
   "metadata": {},
   "outputs": [
    {
     "data": {
      "image/png": "[encoded data removed]",
      "text/plain": [
       "<Figure size 432x288 with 1 Axes>"
      ]
     },
     "metadata": {
      "needs_background": "light"
     },
     "output_type": "display_data"
    }
   ],
   "source": [
    "salaries_2006_df = salaries_yr_df.loc[salaries_yr_df[\"yearID\"]==2006]\n",
    "salaries_2006_df\n",
    "\n",
    "salaries_2006 = salaries_2006_df[\"Salary in Millions\"]\n",
    "\n",
    "fig1, ax1 = plt.subplots()\n",
    "ax1.set_title('MLB Salaries 2006')\n",
    "ax1.set_ylabel('Millions of Dollars')\n",
    "ax1.boxplot(salaries_2006)\n",
    "plt.show()\n",
    "            "
   ]
  },
  {
   "cell_type": "code",
   "execution_count": 52,
   "metadata": {},
   "outputs": [
    {
     "data": {
      "image/png": "[encoded data removed]",
      "text/plain": [
       "<Figure size 432x288 with 1 Axes>"
      ]
     },
     "metadata": {
      "needs_background": "light"
     },
     "output_type": "display_data"
    }
   ],
   "source": [
    "salaries_2007_df = salaries_yr_df.loc[salaries_yr_df[\"yearID\"]==2007]\n",
    "salaries_2007_df\n",
    "\n",
    "salaries_2007 = salaries_2007_df[\"Salary in Millions\"]\n",
    "\n",
    "fig1, ax1 = plt.subplots()\n",
    "ax1.set_title('MLB Salaries 2007')\n",
    "ax1.set_ylabel('Millions of Dollars')\n",
    "ax1.boxplot(salaries_2007)\n",
    "plt.show()"
   ]
  },
  {
   "cell_type": "code",
   "execution_count": 53,
   "metadata": {},
   "outputs": [
    {
     "data": {
      "image/png": "[encoded data removed]",
      "text/plain": [
       "<Figure size 432x288 with 1 Axes>"
      ]
     },
     "metadata": {
      "needs_background": "light"
     },
     "output_type": "display_data"
    }
   ],
   "source": [
    "salaries_2008_df = salaries_yr_df.loc[salaries_yr_df[\"yearID\"]==2008]\n",
    "salaries_2008_df\n",
    "\n",
    "salaries_2008 = salaries_2008_df[\"Salary in Millions\"]\n",
    "\n",
    "fig1, ax1 = plt.subplots()\n",
    "ax1.set_title('MLB Salaries 2008')\n",
    "ax1.set_ylabel('Millions of Dollars')\n",
    "ax1.boxplot(salaries_2008)\n",
    "plt.show()"
   ]
  },
  {
   "cell_type": "code",
   "execution_count": 54,
   "metadata": {},
   "outputs": [
    {
     "data": {
      "image/png": "[encoded data removed]",
      "text/plain": [
       "<Figure size 432x288 with 1 Axes>"
      ]
     },
     "metadata": {
      "needs_background": "light"
     },
     "output_type": "display_data"
    }
   ],
   "source": [
    "salaries_2009_df = salaries_yr_df.loc[salaries_yr_df[\"yearID\"]==2009]\n",
    "salaries_2009_df\n",
    "\n",
    "salaries_2009 = salaries_2009_df[\"Salary in Millions\"]\n",
    "\n",
    "fig1, ax1 = plt.subplots()\n",
    "ax1.set_title('MLB Salaries 2009')\n",
    "ax1.set_ylabel('Millions of Dollars')\n",
    "ax1.boxplot(salaries_2009)\n",
    "plt.show()"
   ]
  },
  {
   "cell_type": "code",
   "execution_count": 58,
   "metadata": {},
   "outputs": [
    {
     "data": {
      "image/png": "[encoded data removed]",
      "text/plain": [
       "<Figure size 432x288 with 1 Axes>"
      ]
     },
     "metadata": {
      "needs_background": "light"
     },
     "output_type": "display_data"
    }
   ],
   "source": [
    "salaries_2010_df = salaries_yr_df.loc[salaries_yr_df[\"yearID\"]==2010]\n",
    "salaries_2010_df\n",
    "\n",
    "salaries_2010 = salaries_2010_df[\"Salary in Millions\"]\n",
    "\n",
    "fig1, ax1 = plt.subplots()\n",
    "ax1.set_title('MLB Salaries 2010')\n",
    "ax1.set_ylabel('Millions of Dollars')\n",
    "ax1.boxplot(salaries_2010)\n",
    "plt.show()"
   ]
  },
  {
   "cell_type": "code",
   "execution_count": 59,
   "metadata": {},
   "outputs": [
    {
     "data": {
      "image/png": "[encoded data removed]",
      "text/plain": [
       "<Figure size 432x288 with 1 Axes>"
      ]
     },
     "metadata": {
      "needs_background": "light"
     },
     "output_type": "display_data"
    }
   ],
   "source": [
    "salaries_2011_df = salaries_yr_df.loc[salaries_yr_df[\"yearID\"]==2011]\n",
    "salaries_2011_df\n",
    "\n",
    "salaries_2011 = salaries_2011_df[\"Salary in Millions\"]\n",
    "\n",
    "fig1, ax1 = plt.subplots()\n",
    "ax1.set_title('MLB Salaries 2011')\n",
    "ax1.set_ylabel('Millions of Dollars')\n",
    "ax1.boxplot(salaries_2011)\n",
    "plt.show()"
   ]
  },
  {
   "cell_type": "code",
   "execution_count": 60,
   "metadata": {},
   "outputs": [
    {
     "data": {
      "image/png": "[encoded data removed]",
      "text/plain": [
       "<Figure size 432x288 with 1 Axes>"
      ]
     },
     "metadata": {
      "needs_background": "light"
     },
     "output_type": "display_data"
    }
   ],
   "source": [
    "salaries_2012_df = salaries_yr_df.loc[salaries_yr_df[\"yearID\"]==2012]\n",
    "salaries_2012_df\n",
    "\n",
    "salaries_2012 = salaries_2012_df[\"Salary in Millions\"]\n",
    "\n",
    "fig1, ax1 = plt.subplots()\n",
    "ax1.set_title('MLB Salaries 2012')\n",
    "ax1.set_ylabel('Millions of Dollars')\n",
    "ax1.boxplot(salaries_2012)\n",
    "plt.show()"
   ]
  },
  {
   "cell_type": "code",
   "execution_count": 61,
   "metadata": {},
   "outputs": [
    {
     "data": {
      "image/png": "[encoded data removed]",
      "text/plain": [
       "<Figure size 432x288 with 1 Axes>"
      ]
     },
     "metadata": {
      "needs_background": "light"
     },
     "output_type": "display_data"
    }
   ],
   "source": [
    "salaries_2013_df = salaries_yr_df.loc[salaries_yr_df[\"yearID\"]==2013]\n",
    "salaries_2013_df\n",
    "\n",
    "salaries_2013 = salaries_2013_df[\"Salary in Millions\"]\n",
    "\n",
    "fig1, ax1 = plt.subplots()\n",
    "ax1.set_title('MLB Salaries 2013')\n",
    "ax1.set_ylabel('Millions of Dollars')\n",
    "ax1.boxplot(salaries_2013)\n",
    "plt.show()"
   ]
  },
  {
   "cell_type": "code",
   "execution_count": 62,
   "metadata": {},
   "outputs": [
    {
     "data": {
      "image/png": "[encoded data removed]",
      "text/plain": [
       "<Figure size 432x288 with 1 Axes>"
      ]
     },
     "metadata": {
      "needs_background": "light"
     },
     "output_type": "display_data"
    }
   ],
   "source": [
    "salaries_2014_df = salaries_yr_df.loc[salaries_yr_df[\"yearID\"]==2014]\n",
    "salaries_2014_df\n",
    "\n",
    "salaries_2014 = salaries_2014_df[\"Salary in Millions\"]\n",
    "\n",
    "fig1, ax1 = plt.subplots()\n",
    "ax1.set_title('MLB Salaries 2014')\n",
    "ax1.set_ylabel('Millions of Dollars')\n",
    "ax1.boxplot(salaries_2014)\n",
    "plt.show()"
   ]
  },
  {
   "cell_type": "code",
   "execution_count": 63,
   "metadata": {},
   "outputs": [
    {
     "data": {
      "image/png": "[encoded data removed]",
      "text/plain": [
       "<Figure size 432x288 with 1 Axes>"
      ]
     },
     "metadata": {
      "needs_background": "light"
     },
     "output_type": "display_data"
    }
   ],
   "source": [
    "salaries_2015_df = salaries_yr_df.loc[salaries_yr_df[\"yearID\"]==2015]\n",
    "salaries_2015_df\n",
    "\n",
    "salaries_2015 = salaries_2015_df[\"Salary in Millions\"]\n",
    "\n",
    "fig1, ax1 = plt.subplots()\n",
    "ax1.set_title('MLB Salaries 2015')\n",
    "ax1.set_ylabel('Millions of Dollars')\n",
    "ax1.boxplot(salaries_2015)\n",
    "plt.show()"
   ]
  },
  {
   "cell_type": "code",
   "execution_count": 71,
   "metadata": {},
   "outputs": [
    {
     "data": {
      "image/png": "[encoded data removed]",
      "text/plain": [
       "<Figure size 432x288 with 1 Axes>"
      ]
     },
     "metadata": {
      "needs_background": "light"
     },
     "output_type": "display_data"
    }
   ],
   "source": [
    "ten_year_salary_plot_data = [salaries_2005, salaries_2006, salaries_2007, salaries_2008, salaries_2009, salaries_2010, salaries_2011,\n",
    "                            salaries_2012, salaries_2013, salaries_2014, salaries_2015]\n",
    "years = ['2005', '2006', '2007', '2008', '2009', '2010', '2011', '2012', '2013', '2014', '2015']\n",
    "\n",
    "fig1, ax1 = plt.subplots()\n",
    "ax1.set_title(\"MLB Salaries 2005-2015\")\n",
    "ax1.set_xlabel(\"Year\")\n",
    "ax1.set_ylabel(\"Millions of Dollars\")\n",
    "ax1.boxplot(ten_year_salary_plot_data, labels = years)\n",
    "plt.savefig(\"boxplot\")\n",
    "plt.show()\n"
   ]
  }
 ],
 "metadata": {
  "kernelspec": {
   "display_name": "Python [conda env:root] *",
   "language": "python",
   "name": "conda-root-py"
  },
  "language_info": {
   "codemirror_mode": {
    "name": "ipython",
    "version": 3
   },
   "file_extension": ".py",
   "mimetype": "text/x-python",
   "name": "python",
   "nbconvert_exporter": "python",
   "pygments_lexer": "ipython3",
   "version": "3.8.3"
  }
 },
 "nbformat": 4,
 "nbformat_minor": 2
}
